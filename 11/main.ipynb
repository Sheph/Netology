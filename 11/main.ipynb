{
 "cells": [
  {
   "cell_type": "code",
   "execution_count": 1,
   "metadata": {},
   "outputs": [],
   "source": [
    "# Common stuff\n",
    "\n",
    "import numpy as np\n",
    "import pandas as pd\n",
    "from matplotlib import pyplot as plt\n",
    "%matplotlib inline\n",
    "import seaborn as sns\n",
    "%config InlineBackend.figure_format = 'retina'\n",
    "from pylab import rcParams\n",
    "rcParams['figure.figsize'] = (9, 6)\n",
    "import seaborn as sns"
   ]
  },
  {
   "cell_type": "code",
   "execution_count": 2,
   "metadata": {},
   "outputs": [
    {
     "data": {
      "text/html": [
       "<div>\n",
       "<table border=\"1\" class=\"dataframe\">\n",
       "  <thead>\n",
       "    <tr style=\"text-align: right;\">\n",
       "      <th></th>\n",
       "      <th>date</th>\n",
       "      <th>text</th>\n",
       "    </tr>\n",
       "  </thead>\n",
       "  <tbody>\n",
       "    <tr>\n",
       "      <th>0</th>\n",
       "      <td>2017-09-11</td>\n",
       "      <td>Компания рассчитывает на решение по газовому с...</td>\n",
       "    </tr>\n",
       "    <tr>\n",
       "      <th>1</th>\n",
       "      <td>2017-08-11</td>\n",
       "      <td>Как и предполагал “Ъ”, «Газпром», воспользова...</td>\n",
       "    </tr>\n",
       "    <tr>\n",
       "      <th>2</th>\n",
       "      <td>2017-01-11</td>\n",
       "      <td>Новая редакция американских санкций ставит по...</td>\n",
       "    </tr>\n",
       "    <tr>\n",
       "      <th>3</th>\n",
       "      <td>2017-10-30</td>\n",
       "      <td>Как стало известно “Ъ”, известный на рынке ри...</td>\n",
       "    </tr>\n",
       "    <tr>\n",
       "      <th>4</th>\n",
       "      <td>2017-10-23</td>\n",
       "      <td>НОВАТЭК, который через пять лет собирается за...</td>\n",
       "    </tr>\n",
       "  </tbody>\n",
       "</table>\n",
       "</div>"
      ],
      "text/plain": [
       "        date                                               text\n",
       "0 2017-09-11  Компания рассчитывает на решение по газовому с...\n",
       "1 2017-08-11   Как и предполагал “Ъ”, «Газпром», воспользова...\n",
       "2 2017-01-11   Новая редакция американских санкций ставит по...\n",
       "3 2017-10-30   Как стало известно “Ъ”, известный на рынке ри...\n",
       "4 2017-10-23   НОВАТЭК, который через пять лет собирается за..."
      ]
     },
     "metadata": {},
     "output_type": "display_data"
    },
    {
     "name": "stdout",
     "output_type": "stream",
     "text": [
      "<class 'pandas.core.frame.DataFrame'>\n",
      "Int64Index: 1203 entries, 0 to 1202\n",
      "Data columns (total 2 columns):\n",
      "date    1203 non-null datetime64[ns]\n",
      "text    1203 non-null object\n",
      "dtypes: datetime64[ns](1), object(1)\n",
      "memory usage: 28.2+ KB\n"
     ]
    },
    {
     "data": {
      "text/plain": [
       "None"
      ]
     },
     "metadata": {},
     "output_type": "display_data"
    },
    {
     "data": {
      "text/html": [
       "<div>\n",
       "<table border=\"1\" class=\"dataframe\">\n",
       "  <thead>\n",
       "    <tr style=\"text-align: right;\">\n",
       "      <th></th>\n",
       "      <th>Date</th>\n",
       "      <th>Open</th>\n",
       "      <th>ClosingPrice</th>\n",
       "      <th>DailyHigh</th>\n",
       "      <th>DailyLow</th>\n",
       "      <th>VolumePcs</th>\n",
       "    </tr>\n",
       "  </thead>\n",
       "  <tbody>\n",
       "    <tr>\n",
       "      <th>0</th>\n",
       "      <td>2017-08-12</td>\n",
       "      <td>133.43</td>\n",
       "      <td>132.60</td>\n",
       "      <td>133.90</td>\n",
       "      <td>132.00</td>\n",
       "      <td>16037970</td>\n",
       "    </tr>\n",
       "    <tr>\n",
       "      <th>1</th>\n",
       "      <td>2017-07-12</td>\n",
       "      <td>133.70</td>\n",
       "      <td>133.02</td>\n",
       "      <td>133.87</td>\n",
       "      <td>132.81</td>\n",
       "      <td>18198430</td>\n",
       "    </tr>\n",
       "    <tr>\n",
       "      <th>2</th>\n",
       "      <td>2017-06-12</td>\n",
       "      <td>133.33</td>\n",
       "      <td>134.00</td>\n",
       "      <td>134.29</td>\n",
       "      <td>132.91</td>\n",
       "      <td>14641730</td>\n",
       "    </tr>\n",
       "    <tr>\n",
       "      <th>3</th>\n",
       "      <td>2017-05-12</td>\n",
       "      <td>133.48</td>\n",
       "      <td>133.65</td>\n",
       "      <td>133.99</td>\n",
       "      <td>132.78</td>\n",
       "      <td>12684800</td>\n",
       "    </tr>\n",
       "    <tr>\n",
       "      <th>4</th>\n",
       "      <td>2017-04-12</td>\n",
       "      <td>133.01</td>\n",
       "      <td>133.77</td>\n",
       "      <td>134.00</td>\n",
       "      <td>131.93</td>\n",
       "      <td>17818980</td>\n",
       "    </tr>\n",
       "  </tbody>\n",
       "</table>\n",
       "</div>"
      ],
      "text/plain": [
       "        Date    Open  ClosingPrice  DailyHigh  DailyLow  VolumePcs\n",
       "0 2017-08-12  133.43        132.60     133.90    132.00   16037970\n",
       "1 2017-07-12  133.70        133.02     133.87    132.81   18198430\n",
       "2 2017-06-12  133.33        134.00     134.29    132.91   14641730\n",
       "3 2017-05-12  133.48        133.65     133.99    132.78   12684800\n",
       "4 2017-04-12  133.01        133.77     134.00    131.93   17818980"
      ]
     },
     "metadata": {},
     "output_type": "display_data"
    },
    {
     "name": "stdout",
     "output_type": "stream",
     "text": [
      "<class 'pandas.core.frame.DataFrame'>\n",
      "Int64Index: 1988 entries, 0 to 1987\n",
      "Data columns (total 6 columns):\n",
      "Date            1988 non-null datetime64[ns]\n",
      "Open            1964 non-null float64\n",
      "ClosingPrice    1988 non-null float64\n",
      "DailyHigh       1986 non-null float64\n",
      "DailyLow        1986 non-null float64\n",
      "VolumePcs       1988 non-null int64\n",
      "dtypes: datetime64[ns](1), float64(4), int64(1)\n",
      "memory usage: 108.7 KB\n"
     ]
    },
    {
     "data": {
      "text/plain": [
       "None"
      ]
     },
     "metadata": {},
     "output_type": "display_data"
    }
   ],
   "source": [
    "# Load data\n",
    "\n",
    "df_texts = pd.read_csv('texts.csv')\n",
    "df_texts['date'] = pd.to_datetime(df_texts['date'])\n",
    "display(df_texts.head())\n",
    "display(df_texts.info())\n",
    "df_prices = pd.read_csv('gazprom_prices.csv', sep=';', decimal=',')\n",
    "df_prices['Date'] = pd.to_datetime(df_prices['Date'])\n",
    "display(df_prices.head(5))\n",
    "display(df_prices.info())\n",
    "\n",
    "# Make sure all dates are unique\n",
    "\n",
    "assert(df_texts['date'].nunique() == len(df_texts))\n",
    "assert(df_prices['Date'].nunique() == len(df_prices))"
   ]
  },
  {
   "cell_type": "code",
   "execution_count": 3,
   "metadata": {},
   "outputs": [
    {
     "name": "stdout",
     "output_type": "stream",
     "text": [
      "Dropped 44 texts\n"
     ]
    },
    {
     "data": {
      "text/html": [
       "<div>\n",
       "<table border=\"1\" class=\"dataframe\">\n",
       "  <thead>\n",
       "    <tr style=\"text-align: right;\">\n",
       "      <th></th>\n",
       "      <th>date</th>\n",
       "      <th>text</th>\n",
       "      <th>ClosingPrice_bin</th>\n",
       "      <th>ClosingPrice</th>\n",
       "      <th>orig_text</th>\n",
       "    </tr>\n",
       "  </thead>\n",
       "  <tbody>\n",
       "    <tr>\n",
       "      <th>0</th>\n",
       "      <td>2017-09-11</td>\n",
       "      <td>Компания рассчитывает на решение по газовому с...</td>\n",
       "      <td>0</td>\n",
       "      <td>131.50</td>\n",
       "      <td>Компания рассчитывает на решение по газовому с...</td>\n",
       "    </tr>\n",
       "    <tr>\n",
       "      <th>1</th>\n",
       "      <td>2017-08-11</td>\n",
       "      <td>Как и предполагал “Ъ”, «Газпром», воспользова...</td>\n",
       "      <td>1</td>\n",
       "      <td>132.30</td>\n",
       "      <td>Как и предполагал “Ъ”, «Газпром», воспользова...</td>\n",
       "    </tr>\n",
       "    <tr>\n",
       "      <th>2</th>\n",
       "      <td>2017-01-11</td>\n",
       "      <td>Новая редакция американских санкций ставит по...</td>\n",
       "      <td>1</td>\n",
       "      <td>126.50</td>\n",
       "      <td>Новая редакция американских санкций ставит по...</td>\n",
       "    </tr>\n",
       "    <tr>\n",
       "      <th>3</th>\n",
       "      <td>2017-10-30</td>\n",
       "      <td>Как стало известно “Ъ”, известный на рынке ри...</td>\n",
       "      <td>1</td>\n",
       "      <td>125.98</td>\n",
       "      <td>Как стало известно “Ъ”, известный на рынке ри...</td>\n",
       "    </tr>\n",
       "    <tr>\n",
       "      <th>4</th>\n",
       "      <td>2017-10-23</td>\n",
       "      <td>НОВАТЭК, который через пять лет собирается за...</td>\n",
       "      <td>0</td>\n",
       "      <td>126.80</td>\n",
       "      <td>НОВАТЭК, который через пять лет собирается за...</td>\n",
       "    </tr>\n",
       "    <tr>\n",
       "      <th>5</th>\n",
       "      <td>2017-10-20</td>\n",
       "      <td>Российским прокатчикам второй раз за год приш...</td>\n",
       "      <td>1</td>\n",
       "      <td>126.70</td>\n",
       "      <td>Российским прокатчикам второй раз за год приш...</td>\n",
       "    </tr>\n",
       "    <tr>\n",
       "      <th>6</th>\n",
       "      <td>2017-10-13</td>\n",
       "      <td>«Газпром» может подписать контракт со Словени...</td>\n",
       "      <td>1</td>\n",
       "      <td>126.86</td>\n",
       "      <td>«Газпром» может подписать контракт со Словени...</td>\n",
       "    </tr>\n",
       "    <tr>\n",
       "      <th>7</th>\n",
       "      <td>2017-05-10</td>\n",
       "      <td>«Газпром нефть», пробурившая первую скважину ...</td>\n",
       "      <td>1</td>\n",
       "      <td>123.50</td>\n",
       "      <td>«Газпром нефть», пробурившая первую скважину ...</td>\n",
       "    </tr>\n",
       "    <tr>\n",
       "      <th>8</th>\n",
       "      <td>2017-04-10</td>\n",
       "      <td>Спутниковый оператор «НТВ-плюс» в последнее в...</td>\n",
       "      <td>1</td>\n",
       "      <td>121.76</td>\n",
       "      <td>Спутниковый оператор «НТВ-плюс» в последнее в...</td>\n",
       "    </tr>\n",
       "    <tr>\n",
       "      <th>9</th>\n",
       "      <td>2017-09-29</td>\n",
       "      <td>Как стало известно “Ъ”, конкуренты начинают р...</td>\n",
       "      <td>0</td>\n",
       "      <td>122.20</td>\n",
       "      <td>Как стало известно “Ъ”, конкуренты начинают р...</td>\n",
       "    </tr>\n",
       "  </tbody>\n",
       "</table>\n",
       "</div>"
      ],
      "text/plain": [
       "        date                                               text  \\\n",
       "0 2017-09-11  Компания рассчитывает на решение по газовому с...   \n",
       "1 2017-08-11   Как и предполагал “Ъ”, «Газпром», воспользова...   \n",
       "2 2017-01-11   Новая редакция американских санкций ставит по...   \n",
       "3 2017-10-30   Как стало известно “Ъ”, известный на рынке ри...   \n",
       "4 2017-10-23   НОВАТЭК, который через пять лет собирается за...   \n",
       "5 2017-10-20   Российским прокатчикам второй раз за год приш...   \n",
       "6 2017-10-13   «Газпром» может подписать контракт со Словени...   \n",
       "7 2017-05-10   «Газпром нефть», пробурившая первую скважину ...   \n",
       "8 2017-04-10   Спутниковый оператор «НТВ-плюс» в последнее в...   \n",
       "9 2017-09-29   Как стало известно “Ъ”, конкуренты начинают р...   \n",
       "\n",
       "   ClosingPrice_bin  ClosingPrice  \\\n",
       "0                 0        131.50   \n",
       "1                 1        132.30   \n",
       "2                 1        126.50   \n",
       "3                 1        125.98   \n",
       "4                 0        126.80   \n",
       "5                 1        126.70   \n",
       "6                 1        126.86   \n",
       "7                 1        123.50   \n",
       "8                 1        121.76   \n",
       "9                 0        122.20   \n",
       "\n",
       "                                           orig_text  \n",
       "0  Компания рассчитывает на решение по газовому с...  \n",
       "1   Как и предполагал “Ъ”, «Газпром», воспользова...  \n",
       "2   Новая редакция американских санкций ставит по...  \n",
       "3   Как стало известно “Ъ”, известный на рынке ри...  \n",
       "4   НОВАТЭК, который через пять лет собирается за...  \n",
       "5   Российским прокатчикам второй раз за год приш...  \n",
       "6   «Газпром» может подписать контракт со Словени...  \n",
       "7   «Газпром нефть», пробурившая первую скважину ...  \n",
       "8   Спутниковый оператор «НТВ-плюс» в последнее в...  \n",
       "9   Как стало известно “Ъ”, конкуренты начинают р...  "
      ]
     },
     "metadata": {},
     "output_type": "display_data"
    },
    {
     "name": "stdout",
     "output_type": "stream",
     "text": [
      "<class 'pandas.core.frame.DataFrame'>\n",
      "Int64Index: 1159 entries, 0 to 1158\n",
      "Data columns (total 5 columns):\n",
      "date                1159 non-null datetime64[ns]\n",
      "text                1159 non-null object\n",
      "ClosingPrice_bin    1159 non-null float64\n",
      "ClosingPrice        1159 non-null float64\n",
      "orig_text           1159 non-null object\n",
      "dtypes: datetime64[ns](1), float64(2), object(2)\n",
      "memory usage: 54.3+ KB\n"
     ]
    },
    {
     "data": {
      "text/plain": [
       "None"
      ]
     },
     "metadata": {},
     "output_type": "display_data"
    }
   ],
   "source": [
    "### SKIP THIS comment block, approach with 'Open' below works better\n",
    "## First, let's compare closing prices and set ClosingPrice_bin flag\n",
    "## Note than we want to check as much as 3 days back because of holidays,\n",
    "## i.e. monday news might influence the price, but last measurement comes from\n",
    "## friday, not sunday\n",
    "#df_res = df_texts.copy()\n",
    "#for row in df_res.itertuples():\n",
    "#    p2 = df_prices[df_prices['Date'] == row.date]\n",
    "#    if not len(p2):\n",
    "#        continue\n",
    "#    p1 = df_prices[df_prices['Date'] == (row.date - pd.DateOffset(1))]\n",
    "#    if not len(p1):\n",
    "#        p1 = df_prices[df_prices['Date'] == (row.date - pd.DateOffset(2))]\n",
    "#    if not len(p1):        \n",
    "#        p1 = df_prices[df_prices['Date'] == (row.date - pd.DateOffset(3))]\n",
    "#    if not len(p1):        \n",
    "#        continue\n",
    "#    diff = float(p2.iloc[0]['ClosingPrice']) - float(p1.iloc[0]['ClosingPrice'])\n",
    "#    df_res.loc[row.Index, 'ClosingPrice_bin'] = 1 if diff >= 0 else 0\n",
    "#    df_res.loc[row.Index, 'ClosingPrice'] = p2.iloc[0]['ClosingPrice']    \n",
    "\n",
    "# First, let's compare prices and set ClosingPrice_bin flag\n",
    "df_res = df_texts.copy()\n",
    "for row in df_res.itertuples():\n",
    "    p = df_prices[df_prices['Date'] == row.date]\n",
    "    if not len(p):\n",
    "        continue    \n",
    "    diff = float(p.iloc[0]['ClosingPrice']) - float(p.iloc[0]['Open'])\n",
    "    df_res.loc[row.Index, 'ClosingPrice_bin'] = 1 if diff >= 0 else 0\n",
    "    df_res.loc[row.Index, 'ClosingPrice'] = p.iloc[0]['ClosingPrice']\n",
    "    df_res['orig_text'] = df_res['text']\n",
    "        \n",
    "df_res.dropna(inplace = True)\n",
    "df_res.reset_index(inplace = True, drop = True)\n",
    "print(\"Dropped\", len(df_texts) - len(df_res), \"texts\")\n",
    "display(df_res.head(10))\n",
    "display(df_res.info())"
   ]
  },
  {
   "cell_type": "code",
   "execution_count": 4,
   "metadata": {},
   "outputs": [
    {
     "data": {
      "text/html": [
       "<div>\n",
       "<table border=\"1\" class=\"dataframe\">\n",
       "  <thead>\n",
       "    <tr style=\"text-align: right;\">\n",
       "      <th></th>\n",
       "      <th>date</th>\n",
       "      <th>text</th>\n",
       "      <th>ClosingPrice_bin</th>\n",
       "      <th>ClosingPrice</th>\n",
       "      <th>orig_text</th>\n",
       "    </tr>\n",
       "  </thead>\n",
       "  <tbody>\n",
       "    <tr>\n",
       "      <th>0</th>\n",
       "      <td>2017-09-11</td>\n",
       "      <td>компания рассчитывать решение газовый спор укр...</td>\n",
       "      <td>0</td>\n",
       "      <td>131.50</td>\n",
       "      <td>Компания рассчитывает на решение по газовому с...</td>\n",
       "    </tr>\n",
       "    <tr>\n",
       "      <th>1</th>\n",
       "      <td>2017-08-11</td>\n",
       "      <td>предполагать “ъ” «газпром» воспользоваться жал...</td>\n",
       "      <td>1</td>\n",
       "      <td>132.30</td>\n",
       "      <td>Как и предполагал “Ъ”, «Газпром», воспользова...</td>\n",
       "    </tr>\n",
       "    <tr>\n",
       "      <th>2</th>\n",
       "      <td>2017-01-11</td>\n",
       "      <td>новый редакция американский санкция ставить уг...</td>\n",
       "      <td>1</td>\n",
       "      <td>126.50</td>\n",
       "      <td>Новая редакция американских санкций ставит по...</td>\n",
       "    </tr>\n",
       "    <tr>\n",
       "      <th>3</th>\n",
       "      <td>2017-10-30</td>\n",
       "      <td>становиться известно “ъ” известный рынок рискм...</td>\n",
       "      <td>1</td>\n",
       "      <td>125.98</td>\n",
       "      <td>Как стало известно “Ъ”, известный на рынке ри...</td>\n",
       "    </tr>\n",
       "    <tr>\n",
       "      <th>4</th>\n",
       "      <td>2017-10-23</td>\n",
       "      <td>новатэк пять год собираться запускать камчатка...</td>\n",
       "      <td>0</td>\n",
       "      <td>126.80</td>\n",
       "      <td>НОВАТЭК, который через пять лет собирается за...</td>\n",
       "    </tr>\n",
       "    <tr>\n",
       "      <th>5</th>\n",
       "      <td>2017-10-20</td>\n",
       "      <td>российский прокатчик второй год приходиться ра...</td>\n",
       "      <td>1</td>\n",
       "      <td>126.70</td>\n",
       "      <td>Российским прокатчикам второй раз за год приш...</td>\n",
       "    </tr>\n",
       "    <tr>\n",
       "      <th>6</th>\n",
       "      <td>2017-10-13</td>\n",
       "      <td>«газпром» подписывать контракт словения постав...</td>\n",
       "      <td>1</td>\n",
       "      <td>126.86</td>\n",
       "      <td>«Газпром» может подписать контракт со Словени...</td>\n",
       "    </tr>\n",
       "    <tr>\n",
       "      <th>7</th>\n",
       "      <td>2017-05-10</td>\n",
       "      <td>«газпром нефть» пробуривать первый скважина ая...</td>\n",
       "      <td>1</td>\n",
       "      <td>123.50</td>\n",
       "      <td>«Газпром нефть», пробурившая первую скважину ...</td>\n",
       "    </tr>\n",
       "    <tr>\n",
       "      <th>8</th>\n",
       "      <td>2017-04-10</td>\n",
       "      <td>спутниковый оператор «нтвплюс» последний время...</td>\n",
       "      <td>1</td>\n",
       "      <td>121.76</td>\n",
       "      <td>Спутниковый оператор «НТВ-плюс» в последнее в...</td>\n",
       "    </tr>\n",
       "    <tr>\n",
       "      <th>9</th>\n",
       "      <td>2017-09-29</td>\n",
       "      <td>становиться известно “ъ” конкурент начинать ра...</td>\n",
       "      <td>0</td>\n",
       "      <td>122.20</td>\n",
       "      <td>Как стало известно “Ъ”, конкуренты начинают р...</td>\n",
       "    </tr>\n",
       "  </tbody>\n",
       "</table>\n",
       "</div>"
      ],
      "text/plain": [
       "        date                                               text  \\\n",
       "0 2017-09-11  компания рассчитывать решение газовый спор укр...   \n",
       "1 2017-08-11  предполагать “ъ” «газпром» воспользоваться жал...   \n",
       "2 2017-01-11  новый редакция американский санкция ставить уг...   \n",
       "3 2017-10-30  становиться известно “ъ” известный рынок рискм...   \n",
       "4 2017-10-23  новатэк пять год собираться запускать камчатка...   \n",
       "5 2017-10-20  российский прокатчик второй год приходиться ра...   \n",
       "6 2017-10-13  «газпром» подписывать контракт словения постав...   \n",
       "7 2017-05-10  «газпром нефть» пробуривать первый скважина ая...   \n",
       "8 2017-04-10  спутниковый оператор «нтвплюс» последний время...   \n",
       "9 2017-09-29  становиться известно “ъ” конкурент начинать ра...   \n",
       "\n",
       "   ClosingPrice_bin  ClosingPrice  \\\n",
       "0                 0        131.50   \n",
       "1                 1        132.30   \n",
       "2                 1        126.50   \n",
       "3                 1        125.98   \n",
       "4                 0        126.80   \n",
       "5                 1        126.70   \n",
       "6                 1        126.86   \n",
       "7                 1        123.50   \n",
       "8                 1        121.76   \n",
       "9                 0        122.20   \n",
       "\n",
       "                                           orig_text  \n",
       "0  Компания рассчитывает на решение по газовому с...  \n",
       "1   Как и предполагал “Ъ”, «Газпром», воспользова...  \n",
       "2   Новая редакция американских санкций ставит по...  \n",
       "3   Как стало известно “Ъ”, известный на рынке ри...  \n",
       "4   НОВАТЭК, который через пять лет собирается за...  \n",
       "5   Российским прокатчикам второй раз за год приш...  \n",
       "6   «Газпром» может подписать контракт со Словени...  \n",
       "7   «Газпром нефть», пробурившая первую скважину ...  \n",
       "8   Спутниковый оператор «НТВ-плюс» в последнее в...  \n",
       "9   Как стало известно “Ъ”, конкуренты начинают р...  "
      ]
     },
     "metadata": {},
     "output_type": "display_data"
    }
   ],
   "source": [
    "# Let's make some preprocessing\n",
    "\n",
    "import string\n",
    "df_res.text = df_res.text.str.lower()\n",
    "df_res.text = df_res.text.str.translate(dict.fromkeys(map(ord, string.punctuation)))\n",
    "\n",
    "from nltk.corpus import stopwords\n",
    "mystopwords = stopwords.words('russian') + ['это', 'наш' , 'тыс', 'млн', 'млрд', 'также',  'т', 'д', '-', '-']\n",
    "\n",
    "def remove_stopwords(text, mystopwords = mystopwords):\n",
    "    try:\n",
    "        return \" \".join([token for token in text.split() if not token in mystopwords])\n",
    "    except:\n",
    "        return \"\"\n",
    "df_res.text = df_res.text.apply(remove_stopwords)   \n",
    "\n",
    "from pymystem3 import Mystem\n",
    "m = Mystem()\n",
    "def lemmatize(text, mystem=m):\n",
    "    try:\n",
    "        return \"\".join(m.lemmatize(text)).strip()\n",
    "    except:\n",
    "        return \" \"\n",
    "df_res.text = df_res.text.apply(lemmatize)\n",
    "\n",
    "mystoplemmas = ['который','прошлый','сей', 'свой', 'наш', 'мочь']\n",
    "def  remove_stoplemmas(text, mystoplemmas = mystoplemmas):\n",
    "    try:\n",
    "        return \" \".join([token for token in text.split() if not token in mystoplemmas])\n",
    "    except:\n",
    "        return \"\"\n",
    "\n",
    "df_res.text = df_res.text.apply(remove_stoplemmas)\n",
    "display(df_res.head(10))"
   ]
  },
  {
   "cell_type": "code",
   "execution_count": 5,
   "metadata": {},
   "outputs": [
    {
     "name": "stdout",
     "output_type": "stream",
     "text": [
      "Correlation is 0.0148547985936\n"
     ]
    },
    {
     "data": {
      "image/png": "[encoded data removed]",
      "text/plain": [
       "<matplotlib.figure.Figure at 0x7f7d88006c50>"
      ]
     },
     "metadata": {
      "image/png": {
       "height": 423,
       "width": 427
      }
     },
     "output_type": "display_data"
    }
   ],
   "source": [
    "# Let's see if there's any correlation between text length and closing price\n",
    "\n",
    "import re\n",
    "import scipy\n",
    "\n",
    "df_res[\"text_num_words\"] = df_res[\"text\"].apply(lambda x: len(re.split(\"[\\ \\\\t]+\", x)))\n",
    "\n",
    "sns.jointplot(x='text_num_words', y='ClosingPrice', data=df_res, kind='hex');\n",
    "\n",
    "corr = scipy.stats.pearsonr(df_res[\"text_num_words\"], df_res[\"ClosingPrice\"])\n",
    "print(\"Correlation is\",corr[0])\n",
    "\n",
    "# Looks like \"no\""
   ]
  },
  {
   "cell_type": "code",
   "execution_count": 6,
   "metadata": {},
   "outputs": [
    {
     "data": {
      "image/png": "[encoded data removed]",
      "text/plain": [
       "<matplotlib.figure.Figure at 0x7f7d8267a278>"
      ]
     },
     "metadata": {
      "image/png": {
       "height": 423,
       "width": 427
      }
     },
     "output_type": "display_data"
    },
    {
     "data": {
      "image/png": "[encoded data removed]",
      "text/plain": [
       "<matplotlib.figure.Figure at 0x7f7d823f2080>"
      ]
     },
     "metadata": {
      "image/png": {
       "height": 423,
       "width": 427
      }
     },
     "output_type": "display_data"
    }
   ],
   "source": [
    "# Let's see if there's any correlation between Miller mentions and closing price\n",
    "# Note that our text is already lowercased, so we can just search for \"миллер\", it'll\n",
    "# find all stuff like \"миллера\", etc.\n",
    "\n",
    "df_res[\"miller_cnt\"] = df_res[\"text\"].apply(lambda x: len(re.findall('миллер', x)))\n",
    "sns.jointplot(x='miller_cnt', y='ClosingPrice', data=df_res, kind='hex');\n",
    "\n",
    "# Looks like \"no\", let's drop all lines with 0 count and check again\n",
    "\n",
    "sns.jointplot(x='miller_cnt', y='ClosingPrice', data=df_res[df_res[\"miller_cnt\"] > 0], kind='hex');\n",
    "\n",
    "# Still no"
   ]
  },
  {
   "cell_type": "code",
   "execution_count": 7,
   "metadata": {},
   "outputs": [
    {
     "name": "stdout",
     "output_type": "stream",
     "text": [
      "северный поток 41890\n",
      "турецкий поток 48368\n",
      "\n",
      "sanctions:\n",
      "международный санкция\n",
      "американский санкция\n",
      "экономический санкция\n",
      "секторальный санкция\n",
      "очередной санкция\n",
      "антироссийский санкция\n",
      "западный санкция\n",
      "финансовый санкция\n",
      "персональный санкция\n",
      "штрафной санкция\n"
     ]
    }
   ],
   "source": [
    "# Let's see which stream is mentioned the most\n",
    "\n",
    "from sklearn.feature_extraction.text import CountVectorizer\n",
    "\n",
    "c = CountVectorizer(ngram_range=(2, 2))\n",
    "c.fit(df_res[\"text\"])\n",
    "\n",
    "print('северный поток', c.vocabulary_['северный поток'])\n",
    "print('турецкий поток', c.vocabulary_['турецкий поток'])\n",
    "\n",
    "# Now let's output which sanctions are talked about\n",
    "\n",
    "print('\\nsanctions:')\n",
    "\n",
    "from pymorphy2 import MorphAnalyzer\n",
    "\n",
    "m = MorphAnalyzer()\n",
    "\n",
    "for s in c.vocabulary_:\n",
    "    if s.split()[1] == 'санкция':        \n",
    "        if 'ADJF' in m.parse(s.split()[0])[0].tag:\n",
    "            print(s)"
   ]
  },
  {
   "cell_type": "code",
   "execution_count": 8,
   "metadata": {},
   "outputs": [
    {
     "name": "stdout",
     "output_type": "stream",
     "text": [
      "<class 'pandas.core.frame.DataFrame'>\n",
      "Int64Index: 901 entries, 0 to 900\n",
      "Data columns (total 7 columns):\n",
      "date                901 non-null datetime64[ns]\n",
      "text                901 non-null object\n",
      "ClosingPrice_bin    901 non-null float64\n",
      "ClosingPrice        901 non-null float64\n",
      "orig_text           901 non-null object\n",
      "text_num_words      901 non-null int64\n",
      "miller_cnt          901 non-null int64\n",
      "dtypes: datetime64[ns](1), float64(2), int64(2), object(2)\n",
      "memory usage: 56.3+ KB\n"
     ]
    },
    {
     "data": {
      "text/plain": [
       "None"
      ]
     },
     "metadata": {},
     "output_type": "display_data"
    },
    {
     "name": "stdout",
     "output_type": "stream",
     "text": [
      "<class 'pandas.core.frame.DataFrame'>\n",
      "Int64Index: 258 entries, 0 to 257\n",
      "Data columns (total 7 columns):\n",
      "date                258 non-null datetime64[ns]\n",
      "text                258 non-null object\n",
      "ClosingPrice_bin    258 non-null float64\n",
      "ClosingPrice        258 non-null float64\n",
      "orig_text           258 non-null object\n",
      "text_num_words      258 non-null int64\n",
      "miller_cnt          258 non-null int64\n",
      "dtypes: datetime64[ns](1), float64(2), int64(2), object(2)\n",
      "memory usage: 16.1+ KB\n"
     ]
    },
    {
     "data": {
      "text/plain": [
       "None"
      ]
     },
     "metadata": {},
     "output_type": "display_data"
    }
   ],
   "source": [
    "# Now, let's make a classifier, let's start with a simple one first: naive bayes\n",
    "\n",
    "# Let's make a train/test split first\n",
    "\n",
    "df_train = df_res[df_res['date'] < pd.Timestamp('2016-01-01')]\n",
    "df_test = df_res[df_res['date'] >= pd.Timestamp('2016-01-01')]\n",
    "\n",
    "df_train.reset_index(inplace=True, drop=True)\n",
    "df_test.reset_index(inplace=True, drop=True)\n",
    "\n",
    "display(df_train.info())\n",
    "display(df_test.info())"
   ]
  },
  {
   "cell_type": "code",
   "execution_count": 9,
   "metadata": {},
   "outputs": [
    {
     "name": "stdout",
     "output_type": "stream",
     "text": [
      "F1-measure:   0.47\n",
      "Accuracy:   0.47\n",
      "             precision    recall  f1-score   support\n",
      "\n",
      "        0.0       0.51      0.52      0.52       140\n",
      "        1.0       0.42      0.42      0.42       118\n",
      "\n",
      "avg / total       0.47      0.47      0.47       258\n",
      "\n"
     ]
    }
   ],
   "source": [
    "# Let's train and make a prediction using single word count vectorizer\n",
    "\n",
    "from sklearn.pipeline import Pipeline\n",
    "from sklearn.naive_bayes import MultinomialNB\n",
    "from sklearn.metrics import *\n",
    "from sklearn.feature_extraction.text import *\n",
    "\n",
    "clf = Pipeline([\n",
    "    ('el1', CountVectorizer(ngram_range=(1, 1))),\n",
    "    ('el2', MultinomialNB()),\n",
    "])\n",
    "\n",
    "clf.fit(df_train.text, df_train.ClosingPrice_bin)\n",
    "\n",
    "predictions = clf.predict(df_test.text)\n",
    "\n",
    "print(\"F1-measure: {0:6.2f}\".format(f1_score(df_test.ClosingPrice_bin, predictions, average='macro')))\n",
    "print(\"Accuracy: {0:6.2f}\".format(accuracy_score(df_test.ClosingPrice_bin, predictions)))\n",
    "print(classification_report(df_test.ClosingPrice_bin, predictions))\n",
    "\n",
    "# And we get 0.47, this is pretty much expected, gas prices are complex beasts, predicting those\n",
    "# with high accuracy is hard, especially using news only, especially using simple models such as this one.\n",
    "# Let's try to improve"
   ]
  },
  {
   "cell_type": "code",
   "execution_count": 10,
   "metadata": {},
   "outputs": [
    {
     "data": {
      "text/plain": [
       "Pipeline(memory=None,\n",
       "     steps=[('vect', CountVectorizer(analyzer='word', binary=False, decode_error='strict',\n",
       "        dtype=<class 'numpy.int64'>, encoding='utf-8', input='content',\n",
       "        lowercase=True, max_df=1.0, max_features=None, min_df=1,\n",
       "        ngram_range=(1, 1), preprocessor=None, stop_words=None,\n",
       "        strip...ear_tf=False, use_idf=True)), ('clf', MultinomialNB(alpha=0.001, class_prior=None, fit_prior=True))])"
      ]
     },
     "metadata": {},
     "output_type": "display_data"
    },
    {
     "name": "stdout",
     "output_type": "stream",
     "text": [
      "F1-measure:   0.50\n",
      "Accuracy:   0.51\n",
      "             precision    recall  f1-score   support\n",
      "\n",
      "        0.0       0.54      0.59      0.57       140\n",
      "        1.0       0.46      0.41      0.43       118\n",
      "\n",
      "avg / total       0.50      0.51      0.50       258\n",
      "\n"
     ]
    }
   ],
   "source": [
    "# Let's use tf-idf, also, let's use grid search\n",
    "\n",
    "from sklearn.model_selection import GridSearchCV\n",
    "\n",
    "clf = Pipeline([\n",
    "    ('vect', CountVectorizer()),\n",
    "    ('tfidf', TfidfTransformer()),    \n",
    "    ('clf', MultinomialNB()),\n",
    "])\n",
    "\n",
    "parameters = {\n",
    "    'vect__ngram_range': [(1, 1), (1, 3), (2, 2), (2, 4)],    \n",
    "    'clf__alpha': (0.001, 0.01, 0.1, 1, 2),\n",
    "    'tfidf__use_idf': (True, False)\n",
    "}\n",
    "\n",
    "clf = GridSearchCV(clf, parameters, scoring='f1', cv=5, n_jobs=-1)\n",
    "\n",
    "clf.fit(df_train.text, df_train.ClosingPrice_bin)\n",
    "\n",
    "display(clf.best_estimator_)\n",
    "\n",
    "predictions = clf.best_estimator_.predict(df_test.text)\n",
    "\n",
    "print(\"F1-measure: {0:6.2f}\".format(f1_score(df_test.ClosingPrice_bin, predictions, average='macro')))\n",
    "print(\"Accuracy: {0:6.2f}\".format(accuracy_score(df_test.ClosingPrice_bin, predictions)))\n",
    "print(classification_report(df_test.ClosingPrice_bin, predictions))\n",
    "\n",
    "# Looks better :)"
   ]
  },
  {
   "cell_type": "code",
   "execution_count": 11,
   "metadata": {},
   "outputs": [
    {
     "data": {
      "text/plain": [
       "Pipeline(memory=None,\n",
       "     steps=[('vect', CountVectorizer(analyzer='word', binary=False, decode_error='strict',\n",
       "        dtype=<class 'numpy.int64'>, encoding='utf-8', input='content',\n",
       "        lowercase=True, max_df=1.0, max_features=None, min_df=1,\n",
       "        ngram_range=(1, 1), preprocessor=None, stop_words=None,\n",
       "        strip...',\n",
       "  max_iter=-1, probability=True, random_state=None, shrinking=True,\n",
       "  tol=0.001, verbose=False))])"
      ]
     },
     "metadata": {},
     "output_type": "display_data"
    },
    {
     "name": "stdout",
     "output_type": "stream",
     "text": [
      "F1-measure:   0.46\n",
      "Accuracy:   0.48\n",
      "             precision    recall  f1-score   support\n",
      "\n",
      "        0.0       0.52      0.64      0.57       140\n",
      "        1.0       0.41      0.30      0.34       118\n",
      "\n",
      "avg / total       0.47      0.48      0.47       258\n",
      "\n"
     ]
    }
   ],
   "source": [
    "# Let's try SVC with SVD\n",
    "\n",
    "from sklearn.decomposition import TruncatedSVD\n",
    "from sklearn.svm import SVC\n",
    "\n",
    "clf = Pipeline([    \n",
    "    ('vect', CountVectorizer()),\n",
    "    ('tfidf', TfidfTransformer()),        \n",
    "    ('reducer', TruncatedSVD()),\n",
    "    ('clf', SVC(probability=True))\n",
    "])\n",
    "\n",
    "parameters = {\n",
    "    'vect__ngram_range': [(1, 1)],\n",
    "    'reducer__n_components': [100],\n",
    "    'clf__C': [150],\n",
    "    'clf__gamma': [0.002, 0.02],\n",
    "}\n",
    "\n",
    "clf = GridSearchCV(clf, parameters, scoring='f1', cv=5, n_jobs=-1)\n",
    "\n",
    "clf.fit(df_train.text, df_train.ClosingPrice_bin)\n",
    "\n",
    "display(clf.best_estimator_)\n",
    "\n",
    "predictions = clf.best_estimator_.predict(df_test.text)\n",
    "\n",
    "print(\"F1-measure: {0:6.2f}\".format(f1_score(df_test.ClosingPrice_bin, predictions, average='macro')))\n",
    "print(\"Accuracy: {0:6.2f}\".format(accuracy_score(df_test.ClosingPrice_bin, predictions)))\n",
    "print(classification_report(df_test.ClosingPrice_bin, predictions))\n",
    "\n",
    "# I've been playing around with SVD and different classifiers, it's not getting better, m.b.\n",
    "# it's time to move on"
   ]
  },
  {
   "cell_type": "code",
   "execution_count": 21,
   "metadata": {},
   "outputs": [
    {
     "name": "stdout",
     "output_type": "stream",
     "text": [
      "Precision orig 0.5465116279069767\n",
      "Recall orig 0.5465116279069767\n",
      "\n",
      "Precision 0.5193798449612403\n",
      "Recall 0.5193798449612403\n"
     ]
    }
   ],
   "source": [
    "# Let's try fasttext, let's do this on original text first\n",
    "\n",
    "import fasttext\n",
    "\n",
    "with open ('train.txt', 'w') as f:\n",
    "    for s in range(len(df_train.orig_text)):        \n",
    "        l = df_train.orig_text[s] + ' __label__' + str(df_train.ClosingPrice_bin.iloc[s]) + '\\n'\n",
    "        f.write(l)\n",
    "                \n",
    "with open ('test.txt', 'w') as f1:\n",
    "    for s in range(len(df_test.orig_text)):        \n",
    "        l = df_test.orig_text[s] + ' __label__' + str(df_test.ClosingPrice_bin[s]) + '\\n'\n",
    "        f1.write(l)\n",
    "        \n",
    "classifier = fasttext.supervised('train.txt', 'model')\n",
    "\n",
    "result = classifier.test('test.txt')\n",
    "\n",
    "print ('Precision orig', result.precision)\n",
    "print ('Recall orig', result.recall)\n",
    "\n",
    "# And now on preprocessed\n",
    "\n",
    "with open ('train.txt', 'w') as f:\n",
    "    for s in range(len(df_train.text)):        \n",
    "        l = df_train.text[s] + ' __label__' + str(df_train.ClosingPrice_bin.iloc[s]) + '\\n'\n",
    "        f.write(l)\n",
    "                \n",
    "with open ('test.txt', 'w') as f1:\n",
    "    for s in range(len(df_test.text)):        \n",
    "        l = df_test.text[s] + ' __label__' + str(df_test.ClosingPrice_bin[s]) + '\\n'\n",
    "        f1.write(l)\n",
    "        \n",
    "classifier = fasttext.supervised('train.txt', 'model')\n",
    "\n",
    "result = classifier.test('test.txt')\n",
    "\n",
    "print ('\\nPrecision', result.precision)\n",
    "print ('Recall', result.recall)\n",
    "\n",
    "# Much better, it's actually better on original text"
   ]
  }
 ],
 "metadata": {
  "kernelspec": {
   "display_name": "Python 3",
   "language": "python",
   "name": "python3"
  },
  "language_info": {
   "codemirror_mode": {
    "name": "ipython",
    "version": 3
   },
   "file_extension": ".py",
   "mimetype": "text/x-python",
   "name": "python",
   "nbconvert_exporter": "python",
   "pygments_lexer": "ipython3",
   "version": "3.5.2"
  }
 },
 "nbformat": 4,
 "nbformat_minor": 2
}
