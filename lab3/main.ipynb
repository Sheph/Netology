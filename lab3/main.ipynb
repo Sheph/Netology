{
 "cells": [
  {
   "cell_type": "code",
   "execution_count": 1,
   "metadata": {},
   "outputs": [
    {
     "name": "stdout",
     "output_type": "stream",
     "text": [
      "Populating the interactive namespace from numpy and matplotlib\n"
     ]
    }
   ],
   "source": [
    "# common stuff\n",
    "from __future__ import (absolute_import, division,\n",
    "                        print_function, unicode_literals)\n",
    "import warnings\n",
    "warnings.simplefilter('ignore')\n",
    "%pylab inline\n",
    "%config InlineBackend.figure_format = 'png' \n",
    "from pylab import rcParams\n",
    "rcParams['figure.figsize'] = 8,5\n",
    "import numpy as np\n",
    "import pandas as pd"
   ]
  },
  {
   "cell_type": "code",
   "execution_count": 2,
   "metadata": {},
   "outputs": [
    {
     "name": "stdout",
     "output_type": "stream",
     "text": [
      "<class 'pandas.core.frame.DataFrame'>\n",
      "Int64Index: 1296 entries, 0 to 1295\n",
      "Data columns (total 4 columns):\n",
      "userId       1296 non-null int64\n",
      "movieId      1296 non-null int64\n",
      "tag          1296 non-null object\n",
      "timestamp    1296 non-null int64\n",
      "dtypes: int64(3), object(1)\n",
      "memory usage: 50.6+ KB\n"
     ]
    },
    {
     "data": {
      "text/plain": [
       "None"
      ]
     },
     "metadata": {},
     "output_type": "display_data"
    },
    {
     "data": {
      "text/html": [
       "<div>\n",
       "<table border=\"1\" class=\"dataframe\">\n",
       "  <thead>\n",
       "    <tr style=\"text-align: right;\">\n",
       "      <th></th>\n",
       "      <th>userId</th>\n",
       "      <th>movieId</th>\n",
       "      <th>tag</th>\n",
       "      <th>timestamp</th>\n",
       "    </tr>\n",
       "  </thead>\n",
       "  <tbody>\n",
       "    <tr>\n",
       "      <th>0</th>\n",
       "      <td>15</td>\n",
       "      <td>339</td>\n",
       "      <td>sandra 'boring' bullock</td>\n",
       "      <td>1138537770</td>\n",
       "    </tr>\n",
       "    <tr>\n",
       "      <th>1</th>\n",
       "      <td>15</td>\n",
       "      <td>1955</td>\n",
       "      <td>dentist</td>\n",
       "      <td>1193435061</td>\n",
       "    </tr>\n",
       "    <tr>\n",
       "      <th>2</th>\n",
       "      <td>15</td>\n",
       "      <td>7478</td>\n",
       "      <td>cambodia</td>\n",
       "      <td>1170560997</td>\n",
       "    </tr>\n",
       "    <tr>\n",
       "      <th>3</th>\n",
       "      <td>15</td>\n",
       "      <td>32892</td>\n",
       "      <td>russian</td>\n",
       "      <td>1170626366</td>\n",
       "    </tr>\n",
       "    <tr>\n",
       "      <th>4</th>\n",
       "      <td>15</td>\n",
       "      <td>34162</td>\n",
       "      <td>forgettable</td>\n",
       "      <td>1141391765</td>\n",
       "    </tr>\n",
       "  </tbody>\n",
       "</table>\n",
       "</div>"
      ],
      "text/plain": [
       "   userId  movieId                      tag   timestamp\n",
       "0      15      339  sandra 'boring' bullock  1138537770\n",
       "1      15     1955                  dentist  1193435061\n",
       "2      15     7478                 cambodia  1170560997\n",
       "3      15    32892                  russian  1170626366\n",
       "4      15    34162              forgettable  1141391765"
      ]
     },
     "metadata": {},
     "output_type": "display_data"
    }
   ],
   "source": [
    "# Let's prepare tags matrix, read tags\n",
    "tags_df = pd.read_csv(\"ml-latest-small/tags.csv\")\n",
    "tags_df['tag'] = tags_df['tag'].str.lower()\n",
    "display(tags_df.info())\n",
    "display(tags_df.head())"
   ]
  },
  {
   "cell_type": "code",
   "execution_count": 3,
   "metadata": {},
   "outputs": [
    {
     "data": {
      "text/plain": [
       "getdvd        33\n",
       "ei muista     30\n",
       "toplist07     26\n",
       "tivo          26\n",
       "tcm           20\n",
       "toplist12     20\n",
       "toplist11     20\n",
       "toplist15     19\n",
       "toplist08     19\n",
       "toplist14     18\n",
       "toplist10     18\n",
       "toplist09     18\n",
       "funny         17\n",
       "toplist06     16\n",
       "holes00s      16\n",
       "holes70s      16\n",
       "holes80s      14\n",
       "sightsound    14\n",
       "toplist13     14\n",
       "holes40s      13\n",
       "Name: tag, dtype: int64"
      ]
     },
     "metadata": {},
     "output_type": "display_data"
    },
    {
     "data": {
      "text/plain": [
       "560"
      ]
     },
     "metadata": {},
     "output_type": "display_data"
    }
   ],
   "source": [
    "# Let's have a look at the data\n",
    "# There're 560 unique tags, and it looks like there's a lot of garbage,\n",
    "# i.e. probably there're tags like \"blablablaxxyy123\" that are probably only set\n",
    "# on a single movie, these aren't of any use, let's inspect the data more\n",
    "vc = tags_df[\"tag\"].value_counts()\n",
    "display(vc.head(20))\n",
    "display(len(vc))"
   ]
  },
  {
   "cell_type": "code",
   "execution_count": 4,
   "metadata": {},
   "outputs": [
    {
     "data": {
      "text/plain": [
       "161"
      ]
     },
     "metadata": {},
     "output_type": "display_data"
    },
    {
     "name": "stdout",
     "output_type": "stream",
     "text": [
      "<class 'pandas.core.frame.DataFrame'>\n",
      "Int64Index: 897 entries, 9 to 1294\n",
      "Data columns (total 4 columns):\n",
      "userId       897 non-null int64\n",
      "movieId      897 non-null int64\n",
      "tag          897 non-null object\n",
      "timestamp    897 non-null int64\n",
      "dtypes: int64(3), object(1)\n",
      "memory usage: 35.0+ KB\n"
     ]
    },
    {
     "data": {
      "text/plain": [
       "None"
      ]
     },
     "metadata": {},
     "output_type": "display_data"
    },
    {
     "data": {
      "text/html": [
       "<div>\n",
       "<table border=\"1\" class=\"dataframe\">\n",
       "  <thead>\n",
       "    <tr style=\"text-align: right;\">\n",
       "      <th></th>\n",
       "      <th>userId</th>\n",
       "      <th>movieId</th>\n",
       "      <th>tag</th>\n",
       "      <th>timestamp</th>\n",
       "    </tr>\n",
       "  </thead>\n",
       "  <tbody>\n",
       "    <tr>\n",
       "      <th>9</th>\n",
       "      <td>15</td>\n",
       "      <td>100365</td>\n",
       "      <td>documentary</td>\n",
       "      <td>1425876220</td>\n",
       "    </tr>\n",
       "    <tr>\n",
       "      <th>12</th>\n",
       "      <td>68</td>\n",
       "      <td>2174</td>\n",
       "      <td>music</td>\n",
       "      <td>1249808064</td>\n",
       "    </tr>\n",
       "    <tr>\n",
       "      <th>13</th>\n",
       "      <td>68</td>\n",
       "      <td>2174</td>\n",
       "      <td>weird</td>\n",
       "      <td>1249808102</td>\n",
       "    </tr>\n",
       "    <tr>\n",
       "      <th>14</th>\n",
       "      <td>68</td>\n",
       "      <td>8623</td>\n",
       "      <td>steve martin</td>\n",
       "      <td>1249808497</td>\n",
       "    </tr>\n",
       "    <tr>\n",
       "      <th>15</th>\n",
       "      <td>73</td>\n",
       "      <td>107999</td>\n",
       "      <td>action</td>\n",
       "      <td>1430799184</td>\n",
       "    </tr>\n",
       "    <tr>\n",
       "      <th>16</th>\n",
       "      <td>73</td>\n",
       "      <td>107999</td>\n",
       "      <td>anime</td>\n",
       "      <td>1430799184</td>\n",
       "    </tr>\n",
       "    <tr>\n",
       "      <th>17</th>\n",
       "      <td>73</td>\n",
       "      <td>107999</td>\n",
       "      <td>kung fu</td>\n",
       "      <td>1430799184</td>\n",
       "    </tr>\n",
       "    <tr>\n",
       "      <th>18</th>\n",
       "      <td>73</td>\n",
       "      <td>111624</td>\n",
       "      <td>drama</td>\n",
       "      <td>1431584497</td>\n",
       "    </tr>\n",
       "    <tr>\n",
       "      <th>19</th>\n",
       "      <td>73</td>\n",
       "      <td>111624</td>\n",
       "      <td>indie</td>\n",
       "      <td>1431584497</td>\n",
       "    </tr>\n",
       "    <tr>\n",
       "      <th>20</th>\n",
       "      <td>73</td>\n",
       "      <td>111624</td>\n",
       "      <td>love</td>\n",
       "      <td>1431584497</td>\n",
       "    </tr>\n",
       "    <tr>\n",
       "      <th>23</th>\n",
       "      <td>73</td>\n",
       "      <td>130682</td>\n",
       "      <td>horror</td>\n",
       "      <td>1432523704</td>\n",
       "    </tr>\n",
       "    <tr>\n",
       "      <th>24</th>\n",
       "      <td>77</td>\n",
       "      <td>1199</td>\n",
       "      <td>trilogy of the imagination</td>\n",
       "      <td>1163220043</td>\n",
       "    </tr>\n",
       "    <tr>\n",
       "      <th>25</th>\n",
       "      <td>77</td>\n",
       "      <td>2968</td>\n",
       "      <td>gilliam</td>\n",
       "      <td>1163220138</td>\n",
       "    </tr>\n",
       "    <tr>\n",
       "      <th>26</th>\n",
       "      <td>77</td>\n",
       "      <td>2968</td>\n",
       "      <td>trilogy of the imagination</td>\n",
       "      <td>1163220039</td>\n",
       "    </tr>\n",
       "    <tr>\n",
       "      <th>27</th>\n",
       "      <td>77</td>\n",
       "      <td>4467</td>\n",
       "      <td>trilogy of the imagination</td>\n",
       "      <td>1163220065</td>\n",
       "    </tr>\n",
       "    <tr>\n",
       "      <th>28</th>\n",
       "      <td>77</td>\n",
       "      <td>4911</td>\n",
       "      <td>gilliam</td>\n",
       "      <td>1163220167</td>\n",
       "    </tr>\n",
       "    <tr>\n",
       "      <th>29</th>\n",
       "      <td>77</td>\n",
       "      <td>5909</td>\n",
       "      <td>takashi miike</td>\n",
       "      <td>1163219591</td>\n",
       "    </tr>\n",
       "    <tr>\n",
       "      <th>30</th>\n",
       "      <td>77</td>\n",
       "      <td>47465</td>\n",
       "      <td>gilliam</td>\n",
       "      <td>1163220186</td>\n",
       "    </tr>\n",
       "    <tr>\n",
       "      <th>34</th>\n",
       "      <td>91</td>\n",
       "      <td>4388</td>\n",
       "      <td>parody</td>\n",
       "      <td>1448813502</td>\n",
       "    </tr>\n",
       "    <tr>\n",
       "      <th>35</th>\n",
       "      <td>94</td>\n",
       "      <td>1131</td>\n",
       "      <td>emotional</td>\n",
       "      <td>1291781542</td>\n",
       "    </tr>\n",
       "  </tbody>\n",
       "</table>\n",
       "</div>"
      ],
      "text/plain": [
       "    userId  movieId                         tag   timestamp\n",
       "9       15   100365                 documentary  1425876220\n",
       "12      68     2174                       music  1249808064\n",
       "13      68     2174                       weird  1249808102\n",
       "14      68     8623                steve martin  1249808497\n",
       "15      73   107999                      action  1430799184\n",
       "16      73   107999                       anime  1430799184\n",
       "17      73   107999                     kung fu  1430799184\n",
       "18      73   111624                       drama  1431584497\n",
       "19      73   111624                       indie  1431584497\n",
       "20      73   111624                        love  1431584497\n",
       "23      73   130682                      horror  1432523704\n",
       "24      77     1199  trilogy of the imagination  1163220043\n",
       "25      77     2968                     gilliam  1163220138\n",
       "26      77     2968  trilogy of the imagination  1163220039\n",
       "27      77     4467  trilogy of the imagination  1163220065\n",
       "28      77     4911                     gilliam  1163220167\n",
       "29      77     5909               takashi miike  1163219591\n",
       "30      77    47465                     gilliam  1163220186\n",
       "34      91     4388                      parody  1448813502\n",
       "35      94     1131                   emotional  1291781542"
      ]
     },
     "metadata": {},
     "output_type": "display_data"
    }
   ],
   "source": [
    "vc_g1 = vc[vc > 1]\n",
    "display(len(vc_g1))\n",
    "# There're only 161 tags that are used more than once, let's refine our dataframe\n",
    "# we'll keep only lines with those tags\n",
    "tags_df = tags_df[tags_df[\"tag\"].isin(vc_g1.index)]\n",
    "display(tags_df.info())\n",
    "display(tags_df.head(20))"
   ]
  },
  {
   "cell_type": "code",
   "execution_count": 5,
   "metadata": {},
   "outputs": [
    {
     "data": {
      "text/plain": [
       "1    696\n",
       "2    183\n",
       "3     12\n",
       "4      6\n",
       "Name: tag, dtype: int64"
      ]
     },
     "execution_count": 5,
     "metadata": {},
     "output_type": "execute_result"
    }
   ],
   "source": [
    "# Let's have a look at how many words can each \"tag\" have\n",
    "# Most of the tags are single words, but there're 2+ word tags as well\n",
    "import re\n",
    "tl = tags_df[\"tag\"].apply(lambda x: len(re.split(\"[\\ \\\\t]+\", x)))\n",
    "tl.value_counts()"
   ]
  },
  {
   "cell_type": "code",
   "execution_count": 6,
   "metadata": {},
   "outputs": [
    {
     "data": {
      "text/html": [
       "<div>\n",
       "<table border=\"1\" class=\"dataframe\">\n",
       "  <thead>\n",
       "    <tr style=\"text-align: right;\">\n",
       "      <th></th>\n",
       "      <th>userId</th>\n",
       "      <th>movieId</th>\n",
       "      <th>tag</th>\n",
       "      <th>timestamp</th>\n",
       "    </tr>\n",
       "  </thead>\n",
       "  <tbody>\n",
       "    <tr>\n",
       "      <th>14</th>\n",
       "      <td>68</td>\n",
       "      <td>8623</td>\n",
       "      <td>steve martin</td>\n",
       "      <td>1249808497</td>\n",
       "    </tr>\n",
       "    <tr>\n",
       "      <th>17</th>\n",
       "      <td>73</td>\n",
       "      <td>107999</td>\n",
       "      <td>kung fu</td>\n",
       "      <td>1430799184</td>\n",
       "    </tr>\n",
       "    <tr>\n",
       "      <th>29</th>\n",
       "      <td>77</td>\n",
       "      <td>5909</td>\n",
       "      <td>takashi miike</td>\n",
       "      <td>1163219591</td>\n",
       "    </tr>\n",
       "    <tr>\n",
       "      <th>37</th>\n",
       "      <td>94</td>\n",
       "      <td>64957</td>\n",
       "      <td>original plot</td>\n",
       "      <td>1291781246</td>\n",
       "    </tr>\n",
       "    <tr>\n",
       "      <th>48</th>\n",
       "      <td>138</td>\n",
       "      <td>260</td>\n",
       "      <td>science fiction</td>\n",
       "      <td>1440379018</td>\n",
       "    </tr>\n",
       "  </tbody>\n",
       "</table>\n",
       "</div>"
      ],
      "text/plain": [
       "    userId  movieId              tag   timestamp\n",
       "14      68     8623     steve martin  1249808497\n",
       "17      73   107999          kung fu  1430799184\n",
       "29      77     5909    takashi miike  1163219591\n",
       "37      94    64957    original plot  1291781246\n",
       "48     138      260  science fiction  1440379018"
      ]
     },
     "metadata": {},
     "output_type": "display_data"
    },
    {
     "data": {
      "text/html": [
       "<div>\n",
       "<table border=\"1\" class=\"dataframe\">\n",
       "  <thead>\n",
       "    <tr style=\"text-align: right;\">\n",
       "      <th></th>\n",
       "      <th>userId</th>\n",
       "      <th>movieId</th>\n",
       "      <th>tag</th>\n",
       "      <th>timestamp</th>\n",
       "    </tr>\n",
       "  </thead>\n",
       "  <tbody>\n",
       "    <tr>\n",
       "      <th>94</th>\n",
       "      <td>152</td>\n",
       "      <td>52319</td>\n",
       "      <td>world war ii</td>\n",
       "      <td>1335900622</td>\n",
       "    </tr>\n",
       "    <tr>\n",
       "      <th>187</th>\n",
       "      <td>212</td>\n",
       "      <td>66934</td>\n",
       "      <td>neil patrick harris</td>\n",
       "      <td>1253926160</td>\n",
       "    </tr>\n",
       "    <tr>\n",
       "      <th>196</th>\n",
       "      <td>212</td>\n",
       "      <td>68157</td>\n",
       "      <td>world war ii</td>\n",
       "      <td>1253926408</td>\n",
       "    </tr>\n",
       "    <tr>\n",
       "      <th>391</th>\n",
       "      <td>364</td>\n",
       "      <td>1732</td>\n",
       "      <td>nudity (full frontal)</td>\n",
       "      <td>1444535170</td>\n",
       "    </tr>\n",
       "    <tr>\n",
       "      <th>396</th>\n",
       "      <td>364</td>\n",
       "      <td>2068</td>\n",
       "      <td>coming of age</td>\n",
       "      <td>1444530920</td>\n",
       "    </tr>\n",
       "  </tbody>\n",
       "</table>\n",
       "</div>"
      ],
      "text/plain": [
       "     userId  movieId                    tag   timestamp\n",
       "94      152    52319           world war ii  1335900622\n",
       "187     212    66934    neil patrick harris  1253926160\n",
       "196     212    68157           world war ii  1253926408\n",
       "391     364     1732  nudity (full frontal)  1444535170\n",
       "396     364     2068          coming of age  1444530920"
      ]
     },
     "metadata": {},
     "output_type": "display_data"
    },
    {
     "data": {
      "text/html": [
       "<div>\n",
       "<table border=\"1\" class=\"dataframe\">\n",
       "  <thead>\n",
       "    <tr style=\"text-align: right;\">\n",
       "      <th></th>\n",
       "      <th>userId</th>\n",
       "      <th>movieId</th>\n",
       "      <th>tag</th>\n",
       "      <th>timestamp</th>\n",
       "    </tr>\n",
       "  </thead>\n",
       "  <tbody>\n",
       "    <tr>\n",
       "      <th>24</th>\n",
       "      <td>77</td>\n",
       "      <td>1199</td>\n",
       "      <td>trilogy of the imagination</td>\n",
       "      <td>1163220043</td>\n",
       "    </tr>\n",
       "    <tr>\n",
       "      <th>26</th>\n",
       "      <td>77</td>\n",
       "      <td>2968</td>\n",
       "      <td>trilogy of the imagination</td>\n",
       "      <td>1163220039</td>\n",
       "    </tr>\n",
       "    <tr>\n",
       "      <th>27</th>\n",
       "      <td>77</td>\n",
       "      <td>4467</td>\n",
       "      <td>trilogy of the imagination</td>\n",
       "      <td>1163220065</td>\n",
       "    </tr>\n",
       "    <tr>\n",
       "      <th>812</th>\n",
       "      <td>531</td>\n",
       "      <td>6942</td>\n",
       "      <td>nudity (topless - notable)</td>\n",
       "      <td>1243454950</td>\n",
       "    </tr>\n",
       "    <tr>\n",
       "      <th>821</th>\n",
       "      <td>531</td>\n",
       "      <td>35836</td>\n",
       "      <td>nudity (topless - notable)</td>\n",
       "      <td>1243454603</td>\n",
       "    </tr>\n",
       "  </tbody>\n",
       "</table>\n",
       "</div>"
      ],
      "text/plain": [
       "     userId  movieId                         tag   timestamp\n",
       "24       77     1199  trilogy of the imagination  1163220043\n",
       "26       77     2968  trilogy of the imagination  1163220039\n",
       "27       77     4467  trilogy of the imagination  1163220065\n",
       "812     531     6942  nudity (topless - notable)  1243454950\n",
       "821     531    35836  nudity (topless - notable)  1243454603"
      ]
     },
     "metadata": {},
     "output_type": "display_data"
    }
   ],
   "source": [
    "# I wonder what are these\n",
    "# Ok, these look fine, let's keep them as is\n",
    "display(tags_df[tl == 2].head(5))\n",
    "display(tags_df[tl == 3].head(5))\n",
    "display(tags_df[tl == 4].head(5))\n",
    "tags_df.reset_index(inplace=True, drop=True)"
   ]
  },
  {
   "cell_type": "code",
   "execution_count": 7,
   "metadata": {},
   "outputs": [
    {
     "name": "stdout",
     "output_type": "stream",
     "text": [
      "Shape: (585, 161)\n",
      "NNZ count: 872\n",
      "NNZ%: 0.00925837447576578\n",
      "mean: 1.0\n",
      "max: 1.0\n",
      "min: 1.0\n"
     ]
    }
   ],
   "source": [
    "from scipy.sparse import coo_matrix, csr_matrix, lil_matrix\n",
    "\n",
    "def sparse_info(sparse_matrix: csr_matrix) -> None:\n",
    "    print(\"Shape: {}\".format(sparse_matrix.shape))\n",
    "    print(\"NNZ count: {}\".format(sparse_matrix.nnz))\n",
    "    print(\"NNZ%: {}\"\n",
    "          .format(sparse_matrix.nnz / sparse_matrix.shape[0] / sparse_matrix.shape[1])\n",
    "    )\n",
    "    print(\"mean: {}\".format(sparse_matrix.data.mean()))\n",
    "    print(\"max: {}\".format(sparse_matrix.data.max()))\n",
    "    print(\"min: {}\".format(sparse_matrix.data.min()))\n",
    "    \n",
    "# Let's write a movie-tag sparse matrix getter, it accepts movieId-based category\n",
    "# and generates movie indices from it.\n",
    "def get_movie_tag_matrix(ct):\n",
    "    df = tags_df.copy()\n",
    "    ct_map = dict(zip(ct, ct.cat.codes + 1))\n",
    "    df[\"movie_id\"] = df[\"movieId\"].map(ct_map)\n",
    "    df.dropna(inplace=True)    \n",
    "    df[\"tag_id\"] = df[\"tag\"].astype(\"category\").cat.codes.copy()\n",
    "    df.drop(['userId', 'timestamp', 'movieId', 'tag'], inplace=True, axis=1)    \n",
    "    last_movie_id = ct.cat.codes.max() + 1\n",
    "    last_tag_id = df[\"tag_id\"].max()\n",
    "    movie_x_tag = df[[\"movie_id\", \"tag_id\"]].drop_duplicates().as_matrix()\n",
    "    movie_tag_matrix = csr_matrix(\n",
    "        (\n",
    "            [1] * len(movie_x_tag),\n",
    "            (\n",
    "                [pair[0] for pair in movie_x_tag],\n",
    "                [pair[1] for pair in movie_x_tag],\n",
    "            )\n",
    "        ),\n",
    "        shape=(last_movie_id + 1, last_tag_id + 1),\n",
    "        dtype=np.float32\n",
    "    )    \n",
    "    return movie_tag_matrix\n",
    "# Let's test it using tags dataframe itself\n",
    "mtm = get_movie_tag_matrix(tags_df[\"movieId\"].astype(\"category\"))\n",
    "sparse_info(mtm)\n",
    "assert(mtm.shape[0] == tags_df[\"movieId\"].nunique() + 1)\n",
    "assert(mtm.shape[1] == len(vc_g1))\n",
    "assert(mtm.data.mean() == 1)\n",
    "assert(mtm.data.min() == 1)\n",
    "assert(mtm.data.max() == 1)\n",
    "# Looks correct"
   ]
  },
  {
   "cell_type": "code",
   "execution_count": 8,
   "metadata": {},
   "outputs": [
    {
     "name": "stdout",
     "output_type": "stream",
     "text": [
      "<class 'pandas.core.frame.DataFrame'>\n",
      "Int64Index: 100004 entries, 0 to 100003\n",
      "Data columns (total 3 columns):\n",
      "rating      100004 non-null float64\n",
      "movie_id    100004 non-null int16\n",
      "user_id     100004 non-null int16\n",
      "dtypes: float64(1), int16(2)\n",
      "memory usage: 1.9 MB\n"
     ]
    },
    {
     "data": {
      "text/plain": [
       "None"
      ]
     },
     "metadata": {},
     "output_type": "display_data"
    },
    {
     "data": {
      "text/html": [
       "<div>\n",
       "<table border=\"1\" class=\"dataframe\">\n",
       "  <thead>\n",
       "    <tr style=\"text-align: right;\">\n",
       "      <th></th>\n",
       "      <th>rating</th>\n",
       "      <th>movie_id</th>\n",
       "      <th>user_id</th>\n",
       "    </tr>\n",
       "  </thead>\n",
       "  <tbody>\n",
       "    <tr>\n",
       "      <th>0</th>\n",
       "      <td>2.5</td>\n",
       "      <td>31</td>\n",
       "      <td>1</td>\n",
       "    </tr>\n",
       "    <tr>\n",
       "      <th>1</th>\n",
       "      <td>3.0</td>\n",
       "      <td>834</td>\n",
       "      <td>1</td>\n",
       "    </tr>\n",
       "    <tr>\n",
       "      <th>2</th>\n",
       "      <td>3.0</td>\n",
       "      <td>860</td>\n",
       "      <td>1</td>\n",
       "    </tr>\n",
       "    <tr>\n",
       "      <th>3</th>\n",
       "      <td>2.0</td>\n",
       "      <td>907</td>\n",
       "      <td>1</td>\n",
       "    </tr>\n",
       "    <tr>\n",
       "      <th>4</th>\n",
       "      <td>4.0</td>\n",
       "      <td>932</td>\n",
       "      <td>1</td>\n",
       "    </tr>\n",
       "  </tbody>\n",
       "</table>\n",
       "</div>"
      ],
      "text/plain": [
       "   rating  movie_id  user_id\n",
       "0     2.5        31        1\n",
       "1     3.0       834        1\n",
       "2     3.0       860        1\n",
       "3     2.0       907        1\n",
       "4     4.0       932        1"
      ]
     },
     "metadata": {},
     "output_type": "display_data"
    }
   ],
   "source": [
    "# Let's open ratings\n",
    "ratings_df = pd.read_csv(\"ml-latest-small/ratings.csv\")\n",
    "movie_cat = ratings_df[\"movieId\"].astype(\"category\")\n",
    "ratings_df[\"movie_id\"] = movie_cat.cat.codes.copy() + 1\n",
    "ratings_df[\"user_id\"] = ratings_df[\"userId\"].astype(\"category\").cat.codes.copy() + 1\n",
    "ratings_df.drop(['userId', 'timestamp', 'movieId'], inplace=True, axis=1)    \n",
    "last_movie_id = ratings_df[\"movie_id\"].max()\n",
    "last_user_id = ratings_df[\"user_id\"].max()\n",
    "display(ratings_df.info())\n",
    "display(ratings_df.head())"
   ]
  },
  {
   "cell_type": "code",
   "execution_count": 9,
   "metadata": {},
   "outputs": [
    {
     "name": "stdout",
     "output_type": "stream",
     "text": [
      "Shape: (672, 9067)\n",
      "NNZ count: 51568\n",
      "NNZ%: 0.008463449347975653\n",
      "mean: 1.0\n",
      "max: 1.0\n",
      "min: 1.0\n",
      "Shape: (9067, 160)\n",
      "NNZ count: 813\n",
      "NNZ%: 0.0005604113819344876\n",
      "mean: 1.0\n",
      "max: 1.0\n",
      "min: 1.0\n"
     ]
    }
   ],
   "source": [
    "# Let's create user*movie matrix\n",
    "user_x_item = ratings_df[[\"user_id\", \"movie_id\"]].as_matrix()\n",
    "mean_rating = ratings_df[\"rating\"].mean()\n",
    "user_item_matrix = csr_matrix(\n",
    "    (\n",
    "        (ratings_df[\"rating\"] > mean_rating).tolist(),\n",
    "        (\n",
    "            [pair[0] for pair in user_x_item],\n",
    "            [pair[1] for pair in user_x_item],\n",
    "        )\n",
    "    ),\n",
    "    shape=(last_user_id + 1, last_movie_id + 1),\n",
    "    dtype=np.float32\n",
    ")\n",
    "user_item_matrix.eliminate_zeros()\n",
    "sparse_info(user_item_matrix)\n",
    "# And corresponding movie-tag matrix\n",
    "movie_tag_matrix = get_movie_tag_matrix(movie_cat)\n",
    "sparse_info(movie_tag_matrix)"
   ]
  },
  {
   "cell_type": "code",
   "execution_count": 10,
   "metadata": {},
   "outputs": [
    {
     "name": "stdout",
     "output_type": "stream",
     "text": [
      "Shape: (9067, 672)\n",
      "NNZ count: 49558\n",
      "NNZ%: 0.008133563892083799\n",
      "mean: 1.0\n",
      "max: 1.0\n",
      "min: 1.0\n",
      "Shape: (9067, 672)\n",
      "NNZ count: 2010\n",
      "NNZ%: 0.00032988545589185273\n",
      "mean: 1.0\n",
      "max: 1.0\n",
      "min: 1.0\n"
     ]
    }
   ],
   "source": [
    "# train_test_split from lab2:\n",
    "\n",
    "# Now we want to make a train/test split, however, we need to be careful.\n",
    "# We would like to use prec@k as a metric later. A k of 15 would be nice, but\n",
    "# if we move 15 items from training to test for some of the users, then they may not have any data\n",
    "# left in the training set. Thus, the train_test_split only looks for people who have at\n",
    "# least 2*k plays of unique artists before moving some of their data to the test set.\n",
    "def train_test_split(plays, split_count, fraction):\n",
    "    train = plays.copy().tocoo()\n",
    "    test = lil_matrix(train.shape)\n",
    "    user_index = np.random.choice(\n",
    "        np.where(np.bincount(train.row) >= split_count * 2)[0],\n",
    "        replace=False,\n",
    "        size=np.int32(np.floor(fraction * train.shape[0]))\n",
    "    ).tolist()        \n",
    "    train = train.tolil()\n",
    "    for user in user_index:\n",
    "        test_plays = np.random.choice(plays.getrow(user).indices, \n",
    "            size=split_count, \n",
    "            replace=False)\n",
    "        train[user, test_plays] = 0.        \n",
    "        test[user, test_plays] = plays[user, test_plays]\n",
    "    assert(train.multiply(test).nnz == 0)\n",
    "    return train.tocsr(), test.tocsr(), user_index\n",
    "\n",
    "train, test, test_user_indices = train_test_split(user_item_matrix, 15, 0.2)\n",
    "train_user_indices = list(range(1, last_user_id + 1))\n",
    "# These are still user*item matrices, transpose\n",
    "train = train.T\n",
    "test = test.T\n",
    "sparse_info(train)\n",
    "sparse_info(test)"
   ]
  },
  {
   "cell_type": "code",
   "execution_count": 11,
   "metadata": {},
   "outputs": [
    {
     "name": "stdout",
     "output_type": "stream",
     "text": [
      "Shape: (9067, 9067)\n",
      "NNZ count: 7135\n",
      "NNZ%: 8.678941199340147e-05\n",
      "mean: 0.8219122717531071\n",
      "max: 1.0000000000000002\n",
      "min: 0.0\n"
     ]
    }
   ],
   "source": [
    "# Let's use cosine recommender\n",
    "\n",
    "from implicit.nearest_neighbours import CosineRecommender\n",
    "model = CosineRecommender()\n",
    "# We train it using movie_tag_matrix, thus, we'll get movie similarity matrix\n",
    "# by tags\n",
    "model.fit(movie_tag_matrix)\n",
    "sparse_info(model.similarity)"
   ]
  },
  {
   "cell_type": "code",
   "execution_count": 12,
   "metadata": {},
   "outputs": [],
   "source": [
    "import itertools\n",
    "\n",
    "# Now we want to get scores for train and test data, for test data\n",
    "# it's simple, but for train we can't use model.recommend, because it drops all\n",
    "# movies that were already liked by the user, thus, we'll write our own recommend that\n",
    "# doesn't do this (i.e. it's a copy-pasted code from implicit with liked = empty set)\n",
    "\n",
    "def recommend_train(model, userid, user_items, N=10, filter_items=None, recalculate_user=False):    \n",
    "    liked_vector = user_items[userid]    \n",
    "    recommendations = liked_vector.dot(model.similarity)\n",
    "    best = sorted(zip(recommendations.indices, recommendations.data), key=lambda x: -x[1])    \n",
    "    liked = set()    \n",
    "    return list(itertools.islice((rec for rec in best if rec[0] not in liked), N))\n",
    "\n",
    "! mkdir -p recs1\n",
    "! mkdir -p recs2\n",
    "train_user_item = train.T\n",
    "test_user_item = test.T\n",
    "with open(\"recs1/test1.recs.tsv\", \"w\") as output_file:\n",
    "    for user_id in train_user_indices:\n",
    "        for movie_id, score in recommend_train(model, user_id, train_user_item):\n",
    "            output_file.write(\"%s\\t%s\\t%s\\n\" % (user_id, movie_id, score))\n",
    "with open(\"recs2/test2.recs.tsv\", \"w\") as output_file:\n",
    "    for user_id in test_user_indices:\n",
    "        for movie_id, score in model.recommend(user_id, train_user_item):\n",
    "            output_file.write(\"%s\\t%s\\t%s\\n\" % (user_id, movie_id, score))\n",
    "            \n",
    "clmns = [\"user_id\", \"movie_id\", \"score\"]\n",
    "\n",
    "rows, cols = train_user_item.nonzero()\n",
    "records = []\n",
    "for i in range(len(rows)):\n",
    "    records.append((rows[i], cols[i], train_user_item[rows[i], cols[i]]))\n",
    "df = pd.DataFrame.from_records(records, columns=clmns)\n",
    "df.to_csv('test1', sep=\"\\t\", header=False, index=False)\n",
    "\n",
    "rows, cols = test_user_item.nonzero()\n",
    "records = []\n",
    "for i in range(len(rows)):    \n",
    "    records.append((rows[i], cols[i], test_user_item[rows[i], cols[i]]))\n",
    "df = pd.DataFrame.from_records(records, columns=clmns)\n",
    "df.to_csv('test2', sep=\"\\t\", header=False, index=False)"
   ]
  },
  {
   "cell_type": "code",
   "execution_count": 13,
   "metadata": {},
   "outputs": [
    {
     "name": "stdout",
     "output_type": "stream",
     "text": [
      "[2017-11-26 16:12:58,425] INFO: processing /home/stas/Projects/1-netology/Netology/lab3/test1...\n",
      "None\n",
      "mrr            0.5246 +/- 0.0000\n",
      "prec@5         0.2966 +/- 0.0000\n",
      "prec@10        0.2588 +/- 0.0000\n",
      "prec@15        0.1725 +/- 0.0000\n",
      "prec@20        0.1294 +/- 0.0000\n",
      "[2017-11-26 16:12:59,400] INFO: processing /home/stas/Projects/1-netology/Netology/lab3/test2...\n",
      "None\n",
      "mrr            0.0417 +/- 0.0000\n",
      "prec@5         0.0179 +/- 0.0000\n",
      "prec@10        0.0149 +/- 0.0000\n",
      "prec@15        0.0100 +/- 0.0000\n",
      "prec@20        0.0075 +/- 0.0000\n"
     ]
    }
   ],
   "source": [
    "# Get scores for train set\n",
    "! mrec_evaluate \\\n",
    "    --input_format=tsv --test_input_format=tsv \\\n",
    "    --train test1 \\\n",
    "    --recsdir recs1\n",
    "\n",
    "# And for test set\n",
    "! mrec_evaluate \\\n",
    "    --input_format=tsv --test_input_format=tsv \\\n",
    "    --train test2 \\\n",
    "    --recsdir recs2\n",
    "    \n",
    "# We'll use mrr, prec@5 and prec@15 as our metrics"
   ]
  },
  {
   "cell_type": "code",
   "execution_count": 14,
   "metadata": {},
   "outputs": [
    {
     "name": "stdout",
     "output_type": "stream",
     "text": [
      "train mrr  0.743988\n",
      "train prec@5  0.543964\n",
      "train prec@15  0.44302\n",
      "test mrr  0.237852\n",
      "test prec@5  0.0970149\n",
      "test prec@15  0.0985075\n"
     ]
    }
   ],
   "source": [
    "from lightfm import LightFM\n",
    "from lightfm.evaluation import reciprocal_rank, precision_at_k, auc_score\n",
    "\n",
    "model = LightFM(loss=\"bpr\", random_state=123)\n",
    "model.fit(train_user_item, epochs=30)\n",
    "\n",
    "train_mrr = reciprocal_rank(model, train_user_item).mean()\n",
    "test_mrr = reciprocal_rank(model, test_user_item).mean()\n",
    "\n",
    "train_p5 = precision_at_k(model, train_user_item, k=5).mean()\n",
    "test_p5 = precision_at_k(model, test_user_item, k=5).mean()\n",
    "\n",
    "train_p15 = precision_at_k(model, train_user_item, k=15).mean()\n",
    "test_p15 = precision_at_k(model, test_user_item, k=15).mean()\n",
    "\n",
    "print(\"train mrr \", train_mrr)\n",
    "print(\"train prec@5 \", train_p5)\n",
    "print(\"train prec@15 \", train_p15)\n",
    "print(\"test mrr \", test_mrr)\n",
    "print(\"test prec@5 \", test_p5)\n",
    "print(\"test prec@15 \", test_p15)"
   ]
  },
  {
   "cell_type": "code",
   "execution_count": 15,
   "metadata": {},
   "outputs": [
    {
     "name": "stdout",
     "output_type": "stream",
     "text": [
      "train mrr  0.76829\n",
      "train prec@5  0.568107\n",
      "train prec@15  0.4461\n",
      "test mrr  0.239784\n",
      "test prec@5  0.0880597\n",
      "test prec@15  0.0835821\n"
     ]
    }
   ],
   "source": [
    "from scipy.sparse import hstack, identity\n",
    "\n",
    "features = hstack([\n",
    "    identity(movie_tag_matrix.shape[0]),\n",
    "    movie_tag_matrix\n",
    "])\n",
    "\n",
    "model = LightFM(loss=\"bpr\", random_state=123)\n",
    "model.fit(train_user_item, item_features=features, epochs=30)\n",
    "\n",
    "train_mrr = reciprocal_rank(model, train_user_item, item_features=features).mean()\n",
    "test_mrr = reciprocal_rank(model, test_user_item, item_features=features).mean()\n",
    "\n",
    "train_p5 = precision_at_k(model, train_user_item, k=5, item_features=features).mean()\n",
    "test_p5 = precision_at_k(model, test_user_item, k=5, item_features=features).mean()\n",
    "\n",
    "train_p15 = precision_at_k(model, train_user_item, k=15, item_features=features).mean()\n",
    "test_p15 = precision_at_k(model, test_user_item, k=15, item_features=features).mean()\n",
    "\n",
    "# For some fucking reason this is worse than without item_features...\n",
    "\n",
    "print(\"train mrr \", train_mrr)\n",
    "print(\"train prec@5 \", train_p5)\n",
    "print(\"train prec@15 \", train_p15)\n",
    "print(\"test mrr \", test_mrr)\n",
    "print(\"test prec@5 \", test_p5)\n",
    "print(\"test prec@15 \", test_p15)"
   ]
  },
  {
   "cell_type": "code",
   "execution_count": null,
   "metadata": {},
   "outputs": [],
   "source": []
  }
 ],
 "metadata": {
  "kernelspec": {
   "display_name": "Python 3",
   "language": "python",
   "name": "python3"
  },
  "language_info": {
   "codemirror_mode": {
    "name": "ipython",
    "version": 3
   },
   "file_extension": ".py",
   "mimetype": "text/x-python",
   "name": "python",
   "nbconvert_exporter": "python",
   "pygments_lexer": "ipython3",
   "version": "3.5.2"
  }
 },
 "nbformat": 4,
 "nbformat_minor": 2
}
