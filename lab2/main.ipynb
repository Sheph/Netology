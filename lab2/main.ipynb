{
 "cells": [
  {
   "cell_type": "code",
   "execution_count": 1,
   "metadata": {},
   "outputs": [
    {
     "name": "stdout",
     "output_type": "stream",
     "text": [
      "Populating the interactive namespace from numpy and matplotlib\n"
     ]
    }
   ],
   "source": [
    "# common stuff\n",
    "from __future__ import (absolute_import, division,\n",
    "                        print_function, unicode_literals)\n",
    "import warnings\n",
    "warnings.simplefilter('ignore')\n",
    "%pylab inline\n",
    "%config InlineBackend.figure_format = 'png' \n",
    "from pylab import rcParams\n",
    "rcParams['figure.figsize'] = 8,5\n",
    "import numpy as np\n",
    "import pandas as pd"
   ]
  },
  {
   "cell_type": "code",
   "execution_count": 2,
   "metadata": {},
   "outputs": [],
   "source": [
    "# Install latest implicit, the default one in ubuntu 16.04 appears to have a bug\n",
    "# in CosineRecommender\n",
    "# git clone https://github.com/benfred/implicit.git\n",
    "# sudo -H python3 setup.py install"
   ]
  },
  {
   "cell_type": "code",
   "execution_count": 3,
   "metadata": {},
   "outputs": [
    {
     "name": "stdout",
     "output_type": "stream",
     "text": [
      "invalid artist id \"\"\n",
      "invalid artist id \"\"\n",
      "non integer play count 16890410\n"
     ]
    }
   ],
   "source": [
    "# Cleanup dataset, elimenate bad data\n",
    "with open(\"lastfm-dataset-360K/usersha1-artmbid-artname-plays.cleaned\", \"w\") as output:\n",
    "    for i, line in enumerate(open(\"lastfm-dataset-360K/usersha1-artmbid-artname-plays.tsv\")):\n",
    "        tokens = line.strip().split(\"\\t\")\n",
    "        if len(tokens) != 4:\n",
    "            print(\"wrong # of tokens\", i)\n",
    "            continue\n",
    "        if not tokens[3].isdigit():\n",
    "            print(\"non integer play count\", i)\n",
    "            continue\n",
    "        if tokens[2] == '\"\"':\n",
    "            print(\"invalid artist id\", tokens[2])\n",
    "            continue\n",
    "        # some lines contain carriage returns (without newlines), which\n",
    "        # randomly messes pandas up\n",
    "        line = line.replace('\\r', '')\n",
    "        output.write(line)"
   ]
  },
  {
   "cell_type": "code",
   "execution_count": 4,
   "metadata": {},
   "outputs": [
    {
     "data": {
      "text/html": [
       "<div>\n",
       "<table border=\"1\" class=\"dataframe\">\n",
       "  <thead>\n",
       "    <tr style=\"text-align: right;\">\n",
       "      <th></th>\n",
       "      <th>user</th>\n",
       "      <th>artist-mbid</th>\n",
       "      <th>artist-name</th>\n",
       "      <th>total-plays</th>\n",
       "    </tr>\n",
       "  </thead>\n",
       "  <tbody>\n",
       "    <tr>\n",
       "      <th>0</th>\n",
       "      <td>00000c289a1829a808ac09c00daf10bc3c4e223b</td>\n",
       "      <td>3bd73256-3905-4f3a-97e2-8b341527f805</td>\n",
       "      <td>betty blowtorch</td>\n",
       "      <td>2137</td>\n",
       "    </tr>\n",
       "    <tr>\n",
       "      <th>1</th>\n",
       "      <td>00000c289a1829a808ac09c00daf10bc3c4e223b</td>\n",
       "      <td>f2fb0ff0-5679-42ec-a55c-15109ce6e320</td>\n",
       "      <td>die Ärzte</td>\n",
       "      <td>1099</td>\n",
       "    </tr>\n",
       "    <tr>\n",
       "      <th>2</th>\n",
       "      <td>00000c289a1829a808ac09c00daf10bc3c4e223b</td>\n",
       "      <td>b3ae82c2-e60b-4551-a76d-6620f1b456aa</td>\n",
       "      <td>melissa etheridge</td>\n",
       "      <td>897</td>\n",
       "    </tr>\n",
       "    <tr>\n",
       "      <th>3</th>\n",
       "      <td>00000c289a1829a808ac09c00daf10bc3c4e223b</td>\n",
       "      <td>3d6bbeb7-f90e-4d10-b440-e153c0d10b53</td>\n",
       "      <td>elvenking</td>\n",
       "      <td>717</td>\n",
       "    </tr>\n",
       "    <tr>\n",
       "      <th>4</th>\n",
       "      <td>00000c289a1829a808ac09c00daf10bc3c4e223b</td>\n",
       "      <td>bbd2ffd7-17f4-4506-8572-c1ea58c3f9a8</td>\n",
       "      <td>juliette &amp; the licks</td>\n",
       "      <td>706</td>\n",
       "    </tr>\n",
       "  </tbody>\n",
       "</table>\n",
       "</div>"
      ],
      "text/plain": [
       "                                       user  \\\n",
       "0  00000c289a1829a808ac09c00daf10bc3c4e223b   \n",
       "1  00000c289a1829a808ac09c00daf10bc3c4e223b   \n",
       "2  00000c289a1829a808ac09c00daf10bc3c4e223b   \n",
       "3  00000c289a1829a808ac09c00daf10bc3c4e223b   \n",
       "4  00000c289a1829a808ac09c00daf10bc3c4e223b   \n",
       "\n",
       "                            artist-mbid           artist-name  total-plays  \n",
       "0  3bd73256-3905-4f3a-97e2-8b341527f805       betty blowtorch         2137  \n",
       "1  f2fb0ff0-5679-42ec-a55c-15109ce6e320             die Ärzte         1099  \n",
       "2  b3ae82c2-e60b-4551-a76d-6620f1b456aa     melissa etheridge          897  \n",
       "3  3d6bbeb7-f90e-4d10-b440-e153c0d10b53             elvenking          717  \n",
       "4  bbd2ffd7-17f4-4506-8572-c1ea58c3f9a8  juliette & the licks          706  "
      ]
     },
     "execution_count": 4,
     "metadata": {},
     "output_type": "execute_result"
    }
   ],
   "source": [
    "# Read in dataset\n",
    "col_names = [\"user\", \"artist-mbid\", \"artist-name\", \"total-plays\"]\n",
    "data = pd.read_csv(\n",
    "    \"lastfm-dataset-360K/usersha1-artmbid-artname-plays.cleaned\",\n",
    "    sep=\"\\t\",\n",
    "    header=None,\n",
    "    names=col_names\n",
    ")\n",
    "data.head()"
   ]
  },
  {
   "cell_type": "code",
   "execution_count": 5,
   "metadata": {},
   "outputs": [
    {
     "data": {
      "text/html": [
       "<div>\n",
       "<table border=\"1\" class=\"dataframe\">\n",
       "  <thead>\n",
       "    <tr style=\"text-align: right;\">\n",
       "      <th></th>\n",
       "      <th>total-plays</th>\n",
       "      <th>user_id</th>\n",
       "      <th>artist_id</th>\n",
       "    </tr>\n",
       "  </thead>\n",
       "  <tbody>\n",
       "    <tr>\n",
       "      <th>0</th>\n",
       "      <td>2137</td>\n",
       "      <td>1</td>\n",
       "      <td>37426</td>\n",
       "    </tr>\n",
       "    <tr>\n",
       "      <th>1</th>\n",
       "      <td>1099</td>\n",
       "      <td>1</td>\n",
       "      <td>152041</td>\n",
       "    </tr>\n",
       "    <tr>\n",
       "      <th>2</th>\n",
       "      <td>897</td>\n",
       "      <td>1</td>\n",
       "      <td>112367</td>\n",
       "    </tr>\n",
       "    <tr>\n",
       "      <th>3</th>\n",
       "      <td>717</td>\n",
       "      <td>1</td>\n",
       "      <td>38435</td>\n",
       "    </tr>\n",
       "    <tr>\n",
       "      <th>4</th>\n",
       "      <td>706</td>\n",
       "      <td>1</td>\n",
       "      <td>117444</td>\n",
       "    </tr>\n",
       "  </tbody>\n",
       "</table>\n",
       "</div>"
      ],
      "text/plain": [
       "   total-plays  user_id  artist_id\n",
       "0         2137        1      37426\n",
       "1         1099        1     152041\n",
       "2          897        1     112367\n",
       "3          717        1      38435\n",
       "4          706        1     117444"
      ]
     },
     "metadata": {},
     "output_type": "display_data"
    },
    {
     "data": {
      "text/html": [
       "<div>\n",
       "<table border=\"1\" class=\"dataframe\">\n",
       "  <thead>\n",
       "    <tr style=\"text-align: right;\">\n",
       "      <th></th>\n",
       "      <th>total-plays</th>\n",
       "      <th>user_id</th>\n",
       "      <th>artist_id</th>\n",
       "    </tr>\n",
       "  </thead>\n",
       "  <tbody>\n",
       "    <tr>\n",
       "      <th>count</th>\n",
       "      <td>17535652.000000</td>\n",
       "      <td>17535652.000000</td>\n",
       "      <td>17535652.00000</td>\n",
       "    </tr>\n",
       "    <tr>\n",
       "      <th>mean</th>\n",
       "      <td>215.193186</td>\n",
       "      <td>179404.100173</td>\n",
       "      <td>80813.51224</td>\n",
       "    </tr>\n",
       "    <tr>\n",
       "      <th>std</th>\n",
       "      <td>614.481504</td>\n",
       "      <td>103588.706302</td>\n",
       "      <td>46071.36686</td>\n",
       "    </tr>\n",
       "    <tr>\n",
       "      <th>min</th>\n",
       "      <td>0.000000</td>\n",
       "      <td>1.000000</td>\n",
       "      <td>1.00000</td>\n",
       "    </tr>\n",
       "    <tr>\n",
       "      <th>25%</th>\n",
       "      <td>35.000000</td>\n",
       "      <td>89700.000000</td>\n",
       "      <td>41580.00000</td>\n",
       "    </tr>\n",
       "    <tr>\n",
       "      <th>50%</th>\n",
       "      <td>94.000000</td>\n",
       "      <td>179376.000000</td>\n",
       "      <td>83024.00000</td>\n",
       "    </tr>\n",
       "    <tr>\n",
       "      <th>75%</th>\n",
       "      <td>224.000000</td>\n",
       "      <td>269104.000000</td>\n",
       "      <td>118609.00000</td>\n",
       "    </tr>\n",
       "    <tr>\n",
       "      <th>max</th>\n",
       "      <td>419157.000000</td>\n",
       "      <td>358868.000000</td>\n",
       "      <td>160113.00000</td>\n",
       "    </tr>\n",
       "  </tbody>\n",
       "</table>\n",
       "</div>"
      ],
      "text/plain": [
       "           total-plays          user_id       artist_id\n",
       "count  17535652.000000  17535652.000000  17535652.00000\n",
       "mean        215.193186    179404.100173     80813.51224\n",
       "std         614.481504    103588.706302     46071.36686\n",
       "min           0.000000         1.000000         1.00000\n",
       "25%          35.000000     89700.000000     41580.00000\n",
       "50%          94.000000    179376.000000     83024.00000\n",
       "75%         224.000000    269104.000000    118609.00000\n",
       "max      419157.000000    358868.000000    160113.00000"
      ]
     },
     "metadata": {},
     "output_type": "display_data"
    }
   ],
   "source": [
    "data.fillna(\"None\", inplace=True)\n",
    "data[\"user_id\"] = data[\"user\"].astype(\"category\").cat.codes.copy() + 1\n",
    "data[\"artist_id\"] = data[\"artist-mbid\"].astype(\"category\").cat.codes.copy() + 1\n",
    "data.drop([\"artist-name\", \"artist-mbid\", \"user\"], axis=1, inplace=True)\n",
    "display(data.head())\n",
    "display(data.describe())"
   ]
  },
  {
   "cell_type": "code",
   "execution_count": 6,
   "metadata": {},
   "outputs": [
    {
     "name": "stdout",
     "output_type": "stream",
     "text": [
      "Shape: (358869, 160114)\n",
      "NNZ count: 17535285\n",
      "NNZ%: 0.0003051740329513771\n",
      "mean: 215.19761657714844\n",
      "max: 419157.0\n",
      "min: 0.0\n"
     ]
    }
   ],
   "source": [
    "# Make a sparse matrix\n",
    "from scipy.sparse import coo_matrix, csr_matrix, lil_matrix\n",
    "\n",
    "def sparse_info(sparse_matrix: csr_matrix) -> None:\n",
    "    print(\"Shape: {}\".format(sparse_matrix.shape))\n",
    "    print(\"NNZ count: {}\".format(sparse_matrix.nnz))\n",
    "    print(\"NNZ%: {}\"\n",
    "          .format(sparse_matrix.nnz / sparse_matrix.shape[0] / sparse_matrix.shape[1])\n",
    "    )\n",
    "    print(\"mean: {}\".format(sparse_matrix.data.mean()))\n",
    "    print(\"max: {}\".format(sparse_matrix.data.max()))\n",
    "    print(\"min: {}\".format(sparse_matrix.data.min()))\n",
    "\n",
    "plays = coo_matrix((\n",
    "    data[\"total-plays\"].astype(np.float32),\n",
    "    (\n",
    "        data[\"user_id\"],\n",
    "        data[\"artist_id\"]\n",
    "    )\n",
    "))\n",
    "\n",
    "plays = plays.tocsr()\n",
    "\n",
    "sparse_info(plays)"
   ]
  },
  {
   "cell_type": "code",
   "execution_count": 7,
   "metadata": {},
   "outputs": [
    {
     "name": "stdout",
     "output_type": "stream",
     "text": [
      "Shape: (160114, 358869)\n",
      "NNZ count: 16458690\n",
      "NNZ%: 0.0002864375916557103\n",
      "mean: 215.186279296875\n",
      "max: 419157.0\n",
      "min: 0.0\n",
      "Shape: (160114, 358869)\n",
      "NNZ count: 1076595\n",
      "NNZ%: 1.873644129566687e-05\n",
      "mean: 215.37216594912664\n",
      "max: 92357.0\n",
      "min: 1.0\n"
     ]
    }
   ],
   "source": [
    "# Now we want to make a train/test split, however, we need to be careful.\n",
    "# We would like to use prec@k as a metric later. A k of 15 would be nice, but\n",
    "# if we move 15 items from training to test for some of the users, then they may not have any data\n",
    "# left in the training set. Thus, the train_test_split only looks for people who have at\n",
    "# least 2*k plays of unique artists before moving some of their data to the test set.\n",
    "def train_test_split(plays, split_count, fraction):\n",
    "    train = plays.copy().tocoo()\n",
    "    test = lil_matrix(train.shape)\n",
    "    user_index = np.random.choice(\n",
    "        np.where(np.bincount(train.row) >= split_count * 2)[0],\n",
    "        replace=False,\n",
    "        size=np.int32(np.floor(fraction * train.shape[0]))\n",
    "    ).tolist()        \n",
    "    train = train.tolil()\n",
    "    for user in user_index:\n",
    "        test_plays = np.random.choice(plays.getrow(user).indices, \n",
    "            size=split_count, \n",
    "            replace=False)\n",
    "        train[user, test_plays] = 0.        \n",
    "        test[user, test_plays] = plays[user, test_plays]\n",
    "    assert(train.multiply(test).nnz == 0)\n",
    "    return train.tocsr(), test.tocsr(), user_index\n",
    "train, test, test_user_indices = train_test_split(plays, 15, 0.2)\n",
    "# These are still user*item matrices, transpose\n",
    "train = train.T\n",
    "test = test.T\n",
    "sparse_info(train)\n",
    "sparse_info(test)"
   ]
  },
  {
   "cell_type": "code",
   "execution_count": 8,
   "metadata": {},
   "outputs": [
    {
     "name": "stdout",
     "output_type": "stream",
     "text": [
      "Shape: (160114, 160114)\n",
      "NNZ count: 3153068\n",
      "NNZ%: 0.00012299139357680342\n",
      "mean: 0.25543252243529674\n",
      "max: 1.0000000585200308\n",
      "min: 0.0\n",
      "CPU times: user 30.6 s, sys: 252 ms, total: 30.9 s\n",
      "Wall time: 5.76 s\n"
     ]
    }
   ],
   "source": [
    "%%time\n",
    "\n",
    "# Let's use cosine recommender\n",
    "from implicit.nearest_neighbours import CosineRecommender\n",
    "model = CosineRecommender()\n",
    "model.fit(train)\n",
    "sparse_info(model.similarity)"
   ]
  },
  {
   "cell_type": "code",
   "execution_count": 27,
   "metadata": {},
   "outputs": [
    {
     "name": "stdout",
     "output_type": "stream",
     "text": [
      "CPU times: user 44.6 s, sys: 56 ms, total: 44.6 s\n",
      "Wall time: 45 s\n"
     ]
    }
   ],
   "source": [
    "%%time\n",
    "\n",
    "# Save predictions\n",
    "! mkdir -p recs\n",
    "train_user_item = train.T\n",
    "with open(\"recs/test1.recs.tsv\", \"w\") as output_file:\n",
    "    for user_id in test_user_indices:\n",
    "        for artist_id, score in model.recommend(user_id, train_user_item):\n",
    "            output_file.write(\"%s\\t%s\\t%s\\n\" % (user_id, artist_id, score))"
   ]
  },
  {
   "cell_type": "code",
   "execution_count": 22,
   "metadata": {},
   "outputs": [],
   "source": [
    "%%time\n",
    "\n",
    "# Save test ground truth\n",
    "clmns = [\"user_id\", \"artist_id\", \"total-plays\"]\n",
    "test_user_item = test.T\n",
    "rows, cols = test_user_item.nonzero()\n",
    "records = []\n",
    "for i in range(len(rows)):    \n",
    "    records.append((rows[i], cols[i], test_user_item[rows[i], cols[i]]))\n",
    "df = pd.DataFrame.from_records(records, columns=clmns)\n",
    "df.to_csv('test1', sep=\"\\t\", header=False, index=False)"
   ]
  },
  {
   "cell_type": "code",
   "execution_count": 28,
   "metadata": {},
   "outputs": [
    {
     "name": "stdout",
     "output_type": "stream",
     "text": [
      "[2017-11-25 21:41:03,732] INFO: processing /home/stas/Projects/1-netology/Netology/lab2/test1...\n",
      "None\n",
      "mrr            0.2300 +/- 0.0000\n",
      "prec@5         0.0947 +/- 0.0000\n",
      "prec@10        0.0744 +/- 0.0000\n",
      "prec@15        0.0496 +/- 0.0000\n",
      "prec@20        0.0372 +/- 0.0000\n"
     ]
    }
   ],
   "source": [
    "# Evaluate\n",
    "! mrec_evaluate \\\n",
    "    --input_format=tsv --test_input_format=tsv \\\n",
    "    --train test1 \\\n",
    "    --recsdir recs\n",
    "    \n",
    "# We can expect adequate values up to prec@15, since we used 15\n",
    "# in our test/train split"
   ]
  },
  {
   "cell_type": "code",
   "execution_count": 33,
   "metadata": {},
   "outputs": [
    {
     "name": "stderr",
     "output_type": "stream",
     "text": [
      "WARNING:root:OpenBLAS detected. Its highly recommend to set the environment variable 'export OPENBLAS_NUM_THREADS=1' to disable its internal multithreading\n"
     ]
    },
    {
     "name": "stdout",
     "output_type": "stream",
     "text": [
      "CPU times: user 10min 30s, sys: 10min 56s, total: 21min 27s\n",
      "Wall time: 2min 46s\n"
     ]
    }
   ],
   "source": [
    "%%time\n",
    "\n",
    "# Now let's use ALS, let's hardcode factors for now\n",
    "\n",
    "from implicit.als import AlternatingLeastSquares\n",
    "model = AlternatingLeastSquares(factors=50)\n",
    "model.fit(train)"
   ]
  },
  {
   "cell_type": "code",
   "execution_count": 34,
   "metadata": {},
   "outputs": [
    {
     "name": "stdout",
     "output_type": "stream",
     "text": [
      "CPU times: user 25min 44s, sys: 24min 4s, total: 49min 48s\n",
      "Wall time: 6min 24s\n"
     ]
    }
   ],
   "source": [
    "%%time\n",
    "\n",
    "# Save predictions\n",
    "! mkdir -p recs2\n",
    "with open(\"recs2/test1.recs.tsv\", \"w\") as output_file:\n",
    "    for user_id in test_user_indices:\n",
    "        for artist_id, score in model.recommend(user_id, train_user_item):\n",
    "            output_file.write(\"%s\\t%s\\t%s\\n\" % (user_id, artist_id, score))"
   ]
  },
  {
   "cell_type": "code",
   "execution_count": 35,
   "metadata": {},
   "outputs": [
    {
     "name": "stdout",
     "output_type": "stream",
     "text": [
      "[2017-11-25 22:05:17,148] INFO: processing /home/stas/Projects/1-netology/Netology/lab2/test1...\n",
      "None\n",
      "mrr            0.4299 +/- 0.0000\n",
      "prec@5         0.2120 +/- 0.0000\n",
      "prec@10        0.1772 +/- 0.0000\n",
      "prec@15        0.1182 +/- 0.0000\n",
      "prec@20        0.0886 +/- 0.0000\n"
     ]
    }
   ],
   "source": [
    "# Evaluate\n",
    "! mrec_evaluate \\\n",
    "    --input_format=tsv --test_input_format=tsv \\\n",
    "    --train test1 \\\n",
    "    --recsdir recs2\n",
    "    \n",
    "# This is better than kNN, prec@5 is 2 times better, prec@15 is almost 3 times better"
   ]
  }
 ],
 "metadata": {
  "kernelspec": {
   "display_name": "Python 3",
   "language": "python",
   "name": "python3"
  },
  "language_info": {
   "codemirror_mode": {
    "name": "ipython",
    "version": 3
   },
   "file_extension": ".py",
   "mimetype": "text/x-python",
   "name": "python",
   "nbconvert_exporter": "python",
   "pygments_lexer": "ipython3",
   "version": "3.5.2"
  }
 },
 "nbformat": 4,
 "nbformat_minor": 2
}
