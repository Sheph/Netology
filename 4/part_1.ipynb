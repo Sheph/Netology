{
 "cells": [
  {
   "cell_type": "code",
   "execution_count": 1,
   "metadata": {},
   "outputs": [],
   "source": [
    "# common stuff\n",
    "import numpy as np\n",
    "import pandas as pd\n",
    "from matplotlib import pyplot as plt\n",
    "%matplotlib inline\n",
    "import seaborn as sns\n",
    "%config InlineBackend.figure_format = 'retina'\n",
    "from pylab import rcParams\n",
    "rcParams['figure.figsize'] = (9, 6)"
   ]
  },
  {
   "cell_type": "code",
   "execution_count": 2,
   "metadata": {},
   "outputs": [
    {
     "name": "stdout",
     "output_type": "stream",
     "text": [
      "['' 'miss.' 'mr.' 'mrs.']\n",
      "['A' 'B' 'C' 'D' 'E' 'F' 'G' 'T' 'X']\n",
      "['C' 'Q' 'S' 'X']\n",
      "<class 'pandas.core.frame.DataFrame'>\n",
      "Int64Index: 1309 entries, 0 to 1308\n",
      "Data columns (total 10 columns):\n",
      "Pclass         1309 non-null float64\n",
      "Age            1309 non-null float64\n",
      "SibSp          1309 non-null float64\n",
      "Parch          1309 non-null float64\n",
      "Fare           1309 non-null float64\n",
      "Embarked       1309 non-null float64\n",
      "is_test        1309 non-null float64\n",
      "isMale         1309 non-null float64\n",
      "CabinLetter    1309 non-null float64\n",
      "Ref            1309 non-null float64\n",
      "dtypes: float64(10)\n",
      "memory usage: 112.5 KB\n"
     ]
    }
   ],
   "source": [
    "from sklearn import preprocessing\n",
    "\n",
    "# Stuff we did earlier\n",
    "\n",
    "train = pd.read_csv('train.csv')\n",
    "test = pd.read_csv('test.csv')\n",
    "Ytrain = train.Survived\n",
    "train.drop('Survived', axis=1, inplace=True)\n",
    "train['is_test'] = 0\n",
    "test['is_test'] = 1\n",
    "df = pd.concat([train, test])\n",
    "df[\"isMale\"] = df.Sex.replace({\"male\": 1, \"female\":0})\n",
    "df.drop([\"Sex\", \"Ticket\", \"PassengerId\"], axis=1, inplace=True)\n",
    "\n",
    "# Some more transformations\n",
    "\n",
    "df[\"CabinLetter\"] = df.Cabin.str.split().str[0].str[:1]\n",
    "df.drop([\"Cabin\"], axis=1, inplace=True)\n",
    "\n",
    "df.CabinLetter.fillna('X', inplace=True)\n",
    "\n",
    "le_cabinletter = preprocessing.LabelEncoder()\n",
    "df.CabinLetter = le_cabinletter.fit_transform(df.CabinLetter)\n",
    "\n",
    "df[\"Ref\"] = df.Name.str.lower().str.split().apply(lambda x: [i for i in x if i in [\"mr.\", \"mrs.\", \"miss.\"]]) \\\n",
    "    .apply(lambda x: x[0] if x else \"\")\n",
    "\n",
    "le_ref = preprocessing.LabelEncoder()\n",
    "df.Ref = le_ref.fit_transform(df.Ref)\n",
    "\n",
    "df.drop([\"Name\"], axis=1, inplace=True)\n",
    "\n",
    "df.Embarked.fillna('X', inplace=True)\n",
    "\n",
    "le_embarked = preprocessing.LabelEncoder()\n",
    "df.Embarked = le_embarked.fit_transform(df.Embarked)\n",
    "\n",
    "imputer = preprocessing.Imputer(missing_values='NaN', strategy='mean', axis=0, verbose=0, copy=True)\n",
    "imputer.fit(df[df.is_test == 0])\n",
    "df_imp = imputer.transform(df)\n",
    "df = pd.DataFrame(df_imp, columns = df.columns)\n",
    "\n",
    "print(le_ref.classes_)\n",
    "print(le_cabinletter.classes_)\n",
    "print(le_embarked.classes_)\n",
    "\n",
    "df.info()"
   ]
  },
  {
   "cell_type": "code",
   "execution_count": 3,
   "metadata": {},
   "outputs": [
    {
     "name": "stdout",
     "output_type": "stream",
     "text": [
      "(891, 9)\n",
      "(418, 9)\n",
      "(891,)\n"
     ]
    }
   ],
   "source": [
    "# Split, now we have our Xtrain, Xtest and Ytrain\n",
    "Xtrain = df[df.is_test == 0].copy()\n",
    "Xtest = df[df.is_test == 1].copy()\n",
    "\n",
    "Xtrain.drop([\"is_test\"], axis=1, inplace=True)\n",
    "Xtest.drop([\"is_test\"], axis=1, inplace=True)\n",
    "\n",
    "print(Xtrain.shape)\n",
    "print(Xtest.shape)\n",
    "print(Ytrain.shape)"
   ]
  },
  {
   "cell_type": "code",
   "execution_count": 4,
   "metadata": {},
   "outputs": [],
   "source": [
    "from sklearn.model_selection import GridSearchCV\n",
    "from sklearn.tree import DecisionTreeClassifier\n",
    "\n",
    "depths = np.arange(1,10)\n",
    "features_num = np.arange(1, Xtrain.shape[1] + 1)\n",
    "grid = {'max_depth': depths, 'max_features': features_num, 'random_state' : [0]}\n",
    "gridsearch = GridSearchCV(DecisionTreeClassifier(), grid, scoring='neg_log_loss', cv=5)"
   ]
  },
  {
   "cell_type": "code",
   "execution_count": 5,
   "metadata": {},
   "outputs": [
    {
     "name": "stdout",
     "output_type": "stream",
     "text": [
      "CPU times: user 1.52 s, sys: 8 ms, total: 1.53 s\n",
      "Wall time: 1.53 s\n"
     ]
    },
    {
     "data": {
      "text/plain": [
       "GridSearchCV(cv=5, error_score='raise',\n",
       "       estimator=DecisionTreeClassifier(class_weight=None, criterion='gini', max_depth=None,\n",
       "            max_features=None, max_leaf_nodes=None,\n",
       "            min_impurity_decrease=0.0, min_impurity_split=None,\n",
       "            min_samples_leaf=1, min_samples_split=2,\n",
       "            min_weight_fraction_leaf=0.0, presort=False, random_state=None,\n",
       "            splitter='best'),\n",
       "       fit_params=None, iid=True, n_jobs=1,\n",
       "       param_grid={'random_state': [0], 'max_features': array([1, 2, 3, 4, 5, 6, 7, 8, 9]), 'max_depth': array([1, 2, 3, 4, 5, 6, 7, 8, 9])},\n",
       "       pre_dispatch='2*n_jobs', refit=True, return_train_score=True,\n",
       "       scoring='neg_log_loss', verbose=0)"
      ]
     },
     "execution_count": 5,
     "metadata": {},
     "output_type": "execute_result"
    }
   ],
   "source": [
    "%%time\n",
    "gridsearch.fit(Xtrain, Ytrain)"
   ]
  },
  {
   "cell_type": "code",
   "execution_count": 6,
   "metadata": {},
   "outputs": [
    {
     "name": "stderr",
     "output_type": "stream",
     "text": [
      "/usr/local/lib/python3.5/dist-packages/sklearn/model_selection/_search.py:747: DeprecationWarning: The grid_scores_ attribute was deprecated in version 0.18 in favor of the more elaborate cv_results_ attribute. The grid_scores_ attribute will not be available from 0.20\n",
      "  DeprecationWarning)\n"
     ]
    },
    {
     "data": {
      "text/plain": [
       "[mean: -0.45225, std: 0.02685, params: {'random_state': 0, 'max_features': 5, 'max_depth': 2},\n",
       " mean: -0.45225, std: 0.02685, params: {'random_state': 0, 'max_features': 8, 'max_depth': 2},\n",
       " mean: -0.46213, std: 0.03321, params: {'random_state': 0, 'max_features': 7, 'max_depth': 2},\n",
       " mean: -0.46213, std: 0.03321, params: {'random_state': 0, 'max_features': 9, 'max_depth': 2},\n",
       " mean: -0.46468, std: 0.00920, params: {'random_state': 0, 'max_features': 3, 'max_depth': 3},\n",
       " mean: -0.47282, std: 0.02518, params: {'random_state': 0, 'max_features': 6, 'max_depth': 2},\n",
       " mean: -0.47670, std: 0.02399, params: {'random_state': 0, 'max_features': 1, 'max_depth': 3},\n",
       " mean: -0.48023, std: 0.10711, params: {'random_state': 0, 'max_features': 4, 'max_depth': 3},\n",
       " mean: -0.49366, std: 0.01509, params: {'random_state': 0, 'max_features': 3, 'max_depth': 2},\n",
       " mean: -0.50814, std: 0.02300, params: {'random_state': 0, 'max_features': 4, 'max_depth': 2},\n",
       " mean: -0.51588, std: 0.02661, params: {'random_state': 0, 'max_features': 3, 'max_depth': 1},\n",
       " mean: -0.51588, std: 0.02661, params: {'random_state': 0, 'max_features': 4, 'max_depth': 1},\n",
       " mean: -0.51588, std: 0.02661, params: {'random_state': 0, 'max_features': 5, 'max_depth': 1},\n",
       " mean: -0.51588, std: 0.02661, params: {'random_state': 0, 'max_features': 6, 'max_depth': 1},\n",
       " mean: -0.51588, std: 0.02661, params: {'random_state': 0, 'max_features': 7, 'max_depth': 1}]"
      ]
     },
     "execution_count": 6,
     "metadata": {},
     "output_type": "execute_result"
    }
   ],
   "source": [
    "sorted(gridsearch.grid_scores_, key = lambda x: -x.mean_validation_score)[:15]"
   ]
  },
  {
   "cell_type": "code",
   "execution_count": 7,
   "metadata": {},
   "outputs": [
    {
     "data": {
      "text/plain": [
       "DecisionTreeClassifier(class_weight=None, criterion='gini', max_depth=2,\n",
       "            max_features=5, max_leaf_nodes=None, min_impurity_decrease=0.0,\n",
       "            min_impurity_split=None, min_samples_leaf=1,\n",
       "            min_samples_split=2, min_weight_fraction_leaf=0.0,\n",
       "            presort=False, random_state=0, splitter='best')"
      ]
     },
     "execution_count": 7,
     "metadata": {},
     "output_type": "execute_result"
    }
   ],
   "source": [
    "clf_final = DecisionTreeClassifier(max_depth=2, max_features=5, random_state=0)\n",
    "clf_final.fit(Xtrain, Ytrain)"
   ]
  },
  {
   "cell_type": "code",
   "execution_count": 8,
   "metadata": {},
   "outputs": [
    {
     "data": {
      "text/plain": [
       "0.78675645342312006"
      ]
     },
     "execution_count": 8,
     "metadata": {},
     "output_type": "execute_result"
    }
   ],
   "source": [
    "# We're done, let's calc Ytest\n",
    "from sklearn.metrics import accuracy_score\n",
    "\n",
    "Ytest_proba = clf_final.predict_proba(Xtest)\n",
    "Ytest = clf_final.predict(Xtest)\n",
    "\n",
    "Ytrain_guess = clf_final.predict(Xtrain)\n",
    "\n",
    "# And get some very simple metrics\n",
    "accuracy_score(Ytrain, Ytrain_guess)"
   ]
  },
  {
   "cell_type": "code",
   "execution_count": 11,
   "metadata": {},
   "outputs": [
    {
     "data": {
      "text/plain": [
       "([<matplotlib.axis.YTick at 0x7f25690b9a90>,\n",
       "  <matplotlib.axis.YTick at 0x7f25690bcb38>,\n",
       "  <matplotlib.axis.YTick at 0x7f25690bc320>,\n",
       "  <matplotlib.axis.YTick at 0x7f2569090c50>,\n",
       "  <matplotlib.axis.YTick at 0x7f25690966a0>,\n",
       "  <matplotlib.axis.YTick at 0x7f25690980f0>,\n",
       "  <matplotlib.axis.YTick at 0x7f2569098b00>,\n",
       "  <matplotlib.axis.YTick at 0x7f256909d4a8>,\n",
       "  <matplotlib.axis.YTick at 0x7f256909deb8>],\n",
       " <a list of 9 Text yticklabel objects>)"
      ]
     },
     "execution_count": 11,
     "metadata": {},
     "output_type": "execute_result"
    },
    {
     "data": {
      "image/png": "[encoded data removed]",
      "text/plain": [
       "<matplotlib.figure.Figure at 0x7f2569179400>"
      ]
     },
     "metadata": {
      "image/png": {
       "height": 362,
       "width": 587
      }
     },
     "output_type": "display_data"
    }
   ],
   "source": [
    "# Let's also plot feature importance\n",
    "plt.barh(np.arange(len(clf_final.feature_importances_)), clf_final.feature_importances_)\n",
    "plt.yticks(np.arange(len(Xtrain.columns)),Xtrain.columns)\n",
    "# So, our introduced mr. mrs., etc. does make sense, also, cabin letter is pretty useful"
   ]
  },
  {
   "cell_type": "code",
   "execution_count": 12,
   "metadata": {},
   "outputs": [
    {
     "data": {
      "image/svg+xml": [
       "<?xml version=\"1.0\" encoding=\"UTF-8\" standalone=\"no\"?>\n",
       "<!DOCTYPE svg PUBLIC \"-//W3C//DTD SVG 1.1//EN\"\n",
       " \"http://www.w3.org/Graphics/SVG/1.1/DTD/svg11.dtd\">\n",
       "<!-- Generated by graphviz version 2.38.0 (20140413.2041)\n",
       " -->\n",
       "<!-- Title: Tree Pages: 1 -->\n",
       "<svg width=\"496pt\" height=\"314pt\"\n",
       " viewBox=\"0.00 0.00 495.50 314.00\" xmlns=\"http://www.w3.org/2000/svg\" xmlns:xlink=\"http://www.w3.org/1999/xlink\">\n",
       "<g id=\"graph0\" class=\"graph\" transform=\"scale(1 1) rotate(0) translate(4 310)\">\n",
       "<title>Tree</title>\n",
       "<polygon fill=\"white\" stroke=\"none\" points=\"-4,4 -4,-310 491.5,-310 491.5,4 -4,4\"/>\n",
       "<!-- 0 -->\n",
       "<g id=\"node1\" class=\"node\"><title>0</title>\n",
       "<polygon fill=\"#e58139\" fill-opacity=\"0.376471\" stroke=\"black\" points=\"299,-306 180,-306 180,-223 299,-223 299,-306\"/>\n",
       "<text text-anchor=\"middle\" x=\"239.5\" y=\"-290.8\" font-family=\"Times,serif\" font-size=\"14.00\">isMale &lt;= 0.5</text>\n",
       "<text text-anchor=\"middle\" x=\"239.5\" y=\"-275.8\" font-family=\"Times,serif\" font-size=\"14.00\">gini = 0.473</text>\n",
       "<text text-anchor=\"middle\" x=\"239.5\" y=\"-260.8\" font-family=\"Times,serif\" font-size=\"14.00\">samples = 891</text>\n",
       "<text text-anchor=\"middle\" x=\"239.5\" y=\"-245.8\" font-family=\"Times,serif\" font-size=\"14.00\">value = [549, 342]</text>\n",
       "<text text-anchor=\"middle\" x=\"239.5\" y=\"-230.8\" font-family=\"Times,serif\" font-size=\"14.00\">class = died</text>\n",
       "</g>\n",
       "<!-- 1 -->\n",
       "<g id=\"node2\" class=\"node\"><title>1</title>\n",
       "<polygon fill=\"#399de5\" fill-opacity=\"0.650980\" stroke=\"black\" points=\"228.5,-187 116.5,-187 116.5,-104 228.5,-104 228.5,-187\"/>\n",
       "<text text-anchor=\"middle\" x=\"172.5\" y=\"-171.8\" font-family=\"Times,serif\" font-size=\"14.00\">Pclass &lt;= 2.5</text>\n",
       "<text text-anchor=\"middle\" x=\"172.5\" y=\"-156.8\" font-family=\"Times,serif\" font-size=\"14.00\">gini = 0.383</text>\n",
       "<text text-anchor=\"middle\" x=\"172.5\" y=\"-141.8\" font-family=\"Times,serif\" font-size=\"14.00\">samples = 314</text>\n",
       "<text text-anchor=\"middle\" x=\"172.5\" y=\"-126.8\" font-family=\"Times,serif\" font-size=\"14.00\">value = [81, 233]</text>\n",
       "<text text-anchor=\"middle\" x=\"172.5\" y=\"-111.8\" font-family=\"Times,serif\" font-size=\"14.00\">class = survived</text>\n",
       "</g>\n",
       "<!-- 0&#45;&gt;1 -->\n",
       "<g id=\"edge1\" class=\"edge\"><title>0&#45;&gt;1</title>\n",
       "<path fill=\"none\" stroke=\"black\" d=\"M216.255,-222.907C211.266,-214.195 205.941,-204.897 200.785,-195.893\"/>\n",
       "<polygon fill=\"black\" stroke=\"black\" points=\"203.711,-193.959 195.704,-187.021 197.636,-197.438 203.711,-193.959\"/>\n",
       "<text text-anchor=\"middle\" x=\"189.148\" y=\"-207.446\" font-family=\"Times,serif\" font-size=\"14.00\">True</text>\n",
       "</g>\n",
       "<!-- 4 -->\n",
       "<g id=\"node5\" class=\"node\"><title>4</title>\n",
       "<polygon fill=\"#e58139\" fill-opacity=\"0.768627\" stroke=\"black\" points=\"368.5,-187 246.5,-187 246.5,-104 368.5,-104 368.5,-187\"/>\n",
       "<text text-anchor=\"middle\" x=\"307.5\" y=\"-171.8\" font-family=\"Times,serif\" font-size=\"14.00\">CabinLetter &lt;= 6.0</text>\n",
       "<text text-anchor=\"middle\" x=\"307.5\" y=\"-156.8\" font-family=\"Times,serif\" font-size=\"14.00\">gini = 0.306</text>\n",
       "<text text-anchor=\"middle\" x=\"307.5\" y=\"-141.8\" font-family=\"Times,serif\" font-size=\"14.00\">samples = 577</text>\n",
       "<text text-anchor=\"middle\" x=\"307.5\" y=\"-126.8\" font-family=\"Times,serif\" font-size=\"14.00\">value = [468, 109]</text>\n",
       "<text text-anchor=\"middle\" x=\"307.5\" y=\"-111.8\" font-family=\"Times,serif\" font-size=\"14.00\">class = died</text>\n",
       "</g>\n",
       "<!-- 0&#45;&gt;4 -->\n",
       "<g id=\"edge4\" class=\"edge\"><title>0&#45;&gt;4</title>\n",
       "<path fill=\"none\" stroke=\"black\" d=\"M263.092,-222.907C268.156,-214.195 273.56,-204.897 278.793,-195.893\"/>\n",
       "<polygon fill=\"black\" stroke=\"black\" points=\"281.951,-197.425 283.949,-187.021 275.898,-193.908 281.951,-197.425\"/>\n",
       "<text text-anchor=\"middle\" x=\"290.35\" y=\"-207.487\" font-family=\"Times,serif\" font-size=\"14.00\">False</text>\n",
       "</g>\n",
       "<!-- 2 -->\n",
       "<g id=\"node3\" class=\"node\"><title>2</title>\n",
       "<polygon fill=\"#399de5\" fill-opacity=\"0.945098\" stroke=\"black\" points=\"105,-68 0,-68 0,-0 105,-0 105,-68\"/>\n",
       "<text text-anchor=\"middle\" x=\"52.5\" y=\"-52.8\" font-family=\"Times,serif\" font-size=\"14.00\">gini = 0.1</text>\n",
       "<text text-anchor=\"middle\" x=\"52.5\" y=\"-37.8\" font-family=\"Times,serif\" font-size=\"14.00\">samples = 170</text>\n",
       "<text text-anchor=\"middle\" x=\"52.5\" y=\"-22.8\" font-family=\"Times,serif\" font-size=\"14.00\">value = [9, 161]</text>\n",
       "<text text-anchor=\"middle\" x=\"52.5\" y=\"-7.8\" font-family=\"Times,serif\" font-size=\"14.00\">class = survived</text>\n",
       "</g>\n",
       "<!-- 1&#45;&gt;2 -->\n",
       "<g id=\"edge2\" class=\"edge\"><title>1&#45;&gt;2</title>\n",
       "<path fill=\"none\" stroke=\"black\" d=\"M127.816,-103.726C117.621,-94.423 106.793,-84.5428 96.6218,-75.2612\"/>\n",
       "<polygon fill=\"black\" stroke=\"black\" points=\"98.7388,-72.4547 88.9927,-68.2996 94.0204,-77.6255 98.7388,-72.4547\"/>\n",
       "</g>\n",
       "<!-- 3 -->\n",
       "<g id=\"node4\" class=\"node\"><title>3</title>\n",
       "<polygon fill=\"none\" stroke=\"black\" points=\"228,-68 123,-68 123,-0 228,-0 228,-68\"/>\n",
       "<text text-anchor=\"middle\" x=\"175.5\" y=\"-52.8\" font-family=\"Times,serif\" font-size=\"14.00\">gini = 0.5</text>\n",
       "<text text-anchor=\"middle\" x=\"175.5\" y=\"-37.8\" font-family=\"Times,serif\" font-size=\"14.00\">samples = 144</text>\n",
       "<text text-anchor=\"middle\" x=\"175.5\" y=\"-22.8\" font-family=\"Times,serif\" font-size=\"14.00\">value = [72, 72]</text>\n",
       "<text text-anchor=\"middle\" x=\"175.5\" y=\"-7.8\" font-family=\"Times,serif\" font-size=\"14.00\">class = died</text>\n",
       "</g>\n",
       "<!-- 1&#45;&gt;3 -->\n",
       "<g id=\"edge3\" class=\"edge\"><title>1&#45;&gt;3</title>\n",
       "<path fill=\"none\" stroke=\"black\" d=\"M173.617,-103.726C173.842,-95.5175 174.079,-86.8595 174.307,-78.56\"/>\n",
       "<polygon fill=\"black\" stroke=\"black\" points=\"177.812,-78.3917 174.588,-68.2996 170.815,-78.2 177.812,-78.3917\"/>\n",
       "</g>\n",
       "<!-- 5 -->\n",
       "<g id=\"node6\" class=\"node\"><title>5</title>\n",
       "<polygon fill=\"#e58139\" fill-opacity=\"0.262745\" stroke=\"black\" points=\"357,-68 252,-68 252,-0 357,-0 357,-68\"/>\n",
       "<text text-anchor=\"middle\" x=\"304.5\" y=\"-52.8\" font-family=\"Times,serif\" font-size=\"14.00\">gini = 0.489</text>\n",
       "<text text-anchor=\"middle\" x=\"304.5\" y=\"-37.8\" font-family=\"Times,serif\" font-size=\"14.00\">samples = 106</text>\n",
       "<text text-anchor=\"middle\" x=\"304.5\" y=\"-22.8\" font-family=\"Times,serif\" font-size=\"14.00\">value = [61, 45]</text>\n",
       "<text text-anchor=\"middle\" x=\"304.5\" y=\"-7.8\" font-family=\"Times,serif\" font-size=\"14.00\">class = died</text>\n",
       "</g>\n",
       "<!-- 4&#45;&gt;5 -->\n",
       "<g id=\"edge5\" class=\"edge\"><title>4&#45;&gt;5</title>\n",
       "<path fill=\"none\" stroke=\"black\" d=\"M306.383,-103.726C306.158,-95.5175 305.921,-86.8595 305.693,-78.56\"/>\n",
       "<polygon fill=\"black\" stroke=\"black\" points=\"309.185,-78.2 305.412,-68.2996 302.188,-78.3917 309.185,-78.2\"/>\n",
       "</g>\n",
       "<!-- 6 -->\n",
       "<g id=\"node7\" class=\"node\"><title>6</title>\n",
       "<polygon fill=\"#e58139\" fill-opacity=\"0.843137\" stroke=\"black\" points=\"487.5,-68 375.5,-68 375.5,-0 487.5,-0 487.5,-68\"/>\n",
       "<text text-anchor=\"middle\" x=\"431.5\" y=\"-52.8\" font-family=\"Times,serif\" font-size=\"14.00\">gini = 0.235</text>\n",
       "<text text-anchor=\"middle\" x=\"431.5\" y=\"-37.8\" font-family=\"Times,serif\" font-size=\"14.00\">samples = 471</text>\n",
       "<text text-anchor=\"middle\" x=\"431.5\" y=\"-22.8\" font-family=\"Times,serif\" font-size=\"14.00\">value = [407, 64]</text>\n",
       "<text text-anchor=\"middle\" x=\"431.5\" y=\"-7.8\" font-family=\"Times,serif\" font-size=\"14.00\">class = died</text>\n",
       "</g>\n",
       "<!-- 4&#45;&gt;6 -->\n",
       "<g id=\"edge6\" class=\"edge\"><title>4&#45;&gt;6</title>\n",
       "<path fill=\"none\" stroke=\"black\" d=\"M353.673,-103.726C364.311,-94.3318 375.616,-84.349 386.216,-74.9883\"/>\n",
       "<polygon fill=\"black\" stroke=\"black\" points=\"388.612,-77.5424 393.791,-68.2996 383.978,-72.2953 388.612,-77.5424\"/>\n",
       "</g>\n",
       "</g>\n",
       "</svg>\n"
      ],
      "text/plain": [
       "<graphviz.files.Source at 0x7f25690ce4a8>"
      ]
     },
     "execution_count": 12,
     "metadata": {},
     "output_type": "execute_result"
    }
   ],
   "source": [
    "# Let's visualize the tree\n",
    "from sklearn.tree import export_graphviz\n",
    "import graphviz\n",
    "\n",
    "export_graphviz(clf_final, out_file=\"part_1.dot\", filled=True, feature_names=list(Xtrain.columns), class_names=[\"died\", \"survived\"])\n",
    "with open(\"part_1.dot\") as f:\n",
    "    dot_graph = f.read()\n",
    "graphviz.Source(dot_graph)"
   ]
  },
  {
   "cell_type": "code",
   "execution_count": null,
   "metadata": {},
   "outputs": [],
   "source": []
  }
 ],
 "metadata": {
  "kernelspec": {
   "display_name": "Python 3",
   "language": "python",
   "name": "python3"
  },
  "language_info": {
   "codemirror_mode": {
    "name": "ipython",
    "version": 3
   },
   "file_extension": ".py",
   "mimetype": "text/x-python",
   "name": "python",
   "nbconvert_exporter": "python",
   "pygments_lexer": "ipython3",
   "version": "3.5.2"
  }
 },
 "nbformat": 4,
 "nbformat_minor": 2
}
