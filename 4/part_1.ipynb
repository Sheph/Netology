{
 "cells": [
  {
   "cell_type": "code",
   "execution_count": 1,
   "metadata": {},
   "outputs": [],
   "source": [
    "# common stuff\n",
    "import numpy as np\n",
    "import pandas as pd\n",
    "from matplotlib import pyplot as plt\n",
    "%matplotlib inline\n",
    "import seaborn as sns\n",
    "%config InlineBackend.figure_format = 'retina'\n",
    "from pylab import rcParams\n",
    "rcParams['figure.figsize'] = (9, 6)"
   ]
  },
  {
   "cell_type": "code",
   "execution_count": 2,
   "metadata": {},
   "outputs": [
    {
     "name": "stdout",
     "output_type": "stream",
     "text": [
      "<class 'pandas.core.frame.DataFrame'>\n",
      "Int64Index: 1309 entries, 0 to 1308\n",
      "Data columns (total 10 columns):\n",
      "Pclass         1309 non-null float64\n",
      "Age            1309 non-null float64\n",
      "SibSp          1309 non-null float64\n",
      "Parch          1309 non-null float64\n",
      "Fare           1309 non-null float64\n",
      "Embarked       1309 non-null float64\n",
      "is_test        1309 non-null float64\n",
      "isMale         1309 non-null float64\n",
      "CabinLetter    1309 non-null float64\n",
      "Ref            1309 non-null float64\n",
      "dtypes: float64(10)\n",
      "memory usage: 112.5 KB\n"
     ]
    }
   ],
   "source": [
    "from sklearn import preprocessing\n",
    "\n",
    "# Stuff we did earlier\n",
    "\n",
    "train = pd.read_csv('train.csv')\n",
    "test = pd.read_csv('test.csv')\n",
    "Ytrain = train.Survived\n",
    "train.drop('Survived', axis=1, inplace=True)\n",
    "train['is_test'] = 0\n",
    "test['is_test'] = 1\n",
    "df = pd.concat([train, test])\n",
    "df[\"isMale\"] = df.Sex.replace({\"male\": 1, \"female\":0})\n",
    "df.drop([\"Sex\", \"Ticket\", \"PassengerId\"], axis=1, inplace=True)\n",
    "\n",
    "# Some more transformations\n",
    "\n",
    "df[\"CabinLetter\"] = df.Cabin.str.split().str[0].str[:1]\n",
    "df.drop([\"Cabin\"], axis=1, inplace=True)\n",
    "\n",
    "df.CabinLetter.fillna('X', inplace=True)\n",
    "\n",
    "le_cabinletter = preprocessing.LabelEncoder()\n",
    "df.CabinLetter = le_cabinletter.fit_transform(df.CabinLetter)\n",
    "\n",
    "df[\"Ref\"] = df.Name.str.lower().str.split().apply(lambda x: [i for i in x if i in [\"mr.\", \"mrs.\", \"miss.\"]]) \\\n",
    "    .apply(lambda x: x[0] if x else \"\")\n",
    "\n",
    "le_ref = preprocessing.LabelEncoder()\n",
    "df.Ref = le_ref.fit_transform(df.Ref)\n",
    "\n",
    "df.drop([\"Name\"], axis=1, inplace=True)\n",
    "\n",
    "df.Embarked.fillna('X', inplace=True)\n",
    "\n",
    "le_embarked = preprocessing.LabelEncoder()\n",
    "df.Embarked = le_embarked.fit_transform(df.Embarked)\n",
    "\n",
    "imputer = preprocessing.Imputer(missing_values='NaN', strategy='mean', axis=0, verbose=0, copy=True)\n",
    "imputer.fit(df[df.is_test == 0])\n",
    "df_imp = imputer.transform(df)\n",
    "df = pd.DataFrame(df_imp, columns = df.columns)\n",
    "\n",
    "df.info()"
   ]
  },
  {
   "cell_type": "code",
   "execution_count": 3,
   "metadata": {},
   "outputs": [
    {
     "name": "stdout",
     "output_type": "stream",
     "text": [
      "(891, 10)\n",
      "(418, 10)\n",
      "(891,)\n"
     ]
    }
   ],
   "source": [
    "# Split, now we have our Xtrain, Xtest and Ytrain\n",
    "Xtrain = df[df.is_test == 0]\n",
    "Xtest = df[df.is_test == 1]\n",
    "print(Xtrain.shape)\n",
    "print(Xtest.shape)\n",
    "print(Ytrain.shape)"
   ]
  },
  {
   "cell_type": "code",
   "execution_count": 4,
   "metadata": {},
   "outputs": [],
   "source": [
    "from sklearn.model_selection import GridSearchCV\n",
    "from sklearn.tree import DecisionTreeClassifier\n",
    "\n",
    "depths = np.arange(1,10)\n",
    "features_num = np.arange(1, Xtrain.shape[1] + 1)\n",
    "grid = {'max_depth': depths, 'max_features': features_num}\n",
    "gridsearch = GridSearchCV(DecisionTreeClassifier(), grid, scoring='neg_log_loss', cv=5)"
   ]
  },
  {
   "cell_type": "code",
   "execution_count": 5,
   "metadata": {},
   "outputs": [
    {
     "name": "stdout",
     "output_type": "stream",
     "text": [
      "CPU times: user 1.72 s, sys: 0 ns, total: 1.72 s\n",
      "Wall time: 1.72 s\n"
     ]
    },
    {
     "data": {
      "text/plain": [
       "GridSearchCV(cv=5, error_score='raise',\n",
       "       estimator=DecisionTreeClassifier(class_weight=None, criterion='gini', max_depth=None,\n",
       "            max_features=None, max_leaf_nodes=None,\n",
       "            min_impurity_decrease=0.0, min_impurity_split=None,\n",
       "            min_samples_leaf=1, min_samples_split=2,\n",
       "            min_weight_fraction_leaf=0.0, presort=False, random_state=None,\n",
       "            splitter='best'),\n",
       "       fit_params=None, iid=True, n_jobs=1,\n",
       "       param_grid={'max_depth': array([1, 2, 3, 4, 5, 6, 7, 8, 9]), 'max_features': array([ 1,  2,  3,  4,  5,  6,  7,  8,  9, 10])},\n",
       "       pre_dispatch='2*n_jobs', refit=True, return_train_score=True,\n",
       "       scoring='neg_log_loss', verbose=0)"
      ]
     },
     "execution_count": 5,
     "metadata": {},
     "output_type": "execute_result"
    }
   ],
   "source": [
    "%%time\n",
    "gridsearch.fit(Xtrain, Ytrain)"
   ]
  },
  {
   "cell_type": "code",
   "execution_count": 6,
   "metadata": {},
   "outputs": [
    {
     "name": "stderr",
     "output_type": "stream",
     "text": [
      "/usr/local/lib/python3.5/dist-packages/sklearn/model_selection/_search.py:747: DeprecationWarning: The grid_scores_ attribute was deprecated in version 0.18 in favor of the more elaborate cv_results_ attribute. The grid_scores_ attribute will not be available from 0.20\n",
      "  DeprecationWarning)\n"
     ]
    },
    {
     "data": {
      "text/plain": [
       "[mean: -0.46213, std: 0.03321, params: {'max_depth': 2, 'max_features': 8},\n",
       " mean: -0.46213, std: 0.03321, params: {'max_depth': 2, 'max_features': 10},\n",
       " mean: -0.46265, std: 0.03364, params: {'max_depth': 2, 'max_features': 9},\n",
       " mean: -0.48017, std: 0.04542, params: {'max_depth': 2, 'max_features': 5},\n",
       " mean: -0.49540, std: 0.04348, params: {'max_depth': 2, 'max_features': 6}]"
      ]
     },
     "execution_count": 6,
     "metadata": {},
     "output_type": "execute_result"
    }
   ],
   "source": [
    "sorted(gridsearch.grid_scores_, key = lambda x: -x.mean_validation_score)[:5]"
   ]
  },
  {
   "cell_type": "code",
   "execution_count": 7,
   "metadata": {},
   "outputs": [
    {
     "data": {
      "text/plain": [
       "DecisionTreeClassifier(class_weight=None, criterion='gini', max_depth=3,\n",
       "            max_features=8, max_leaf_nodes=None, min_impurity_decrease=0.0,\n",
       "            min_impurity_split=None, min_samples_leaf=1,\n",
       "            min_samples_split=2, min_weight_fraction_leaf=0.0,\n",
       "            presort=False, random_state=None, splitter='best')"
      ]
     },
     "execution_count": 7,
     "metadata": {},
     "output_type": "execute_result"
    }
   ],
   "source": [
    "clf_final = DecisionTreeClassifier(max_depth=3, max_features=8)\n",
    "clf_final.fit(Xtrain, Ytrain)"
   ]
  },
  {
   "cell_type": "code",
   "execution_count": 10,
   "metadata": {},
   "outputs": [
    {
     "data": {
      "text/plain": [
       "0.8204264870931538"
      ]
     },
     "execution_count": 10,
     "metadata": {},
     "output_type": "execute_result"
    }
   ],
   "source": [
    "from sklearn.metrics import accuracy_score\n",
    "\n",
    "Ytest_proba = clf_final.predict_proba(Xtest)\n",
    "Ytest = clf_final.predict(Xtest)\n",
    "\n",
    "Ytrain_guess = clf_final.predict(Xtrain)\n",
    "\n",
    "accuracy_score(Ytrain, Ytrain_guess)"
   ]
  },
  {
   "cell_type": "code",
   "execution_count": null,
   "metadata": {},
   "outputs": [],
   "source": []
  },
  {
   "cell_type": "code",
   "execution_count": null,
   "metadata": {},
   "outputs": [],
   "source": []
  }
 ],
 "metadata": {
  "kernelspec": {
   "display_name": "Python 3",
   "language": "python",
   "name": "python3"
  },
  "language_info": {
   "codemirror_mode": {
    "name": "ipython",
    "version": 3
   },
   "file_extension": ".py",
   "mimetype": "text/x-python",
   "name": "python",
   "nbconvert_exporter": "python",
   "pygments_lexer": "ipython3",
   "version": "3.5.2"
  }
 },
 "nbformat": 4,
 "nbformat_minor": 2
}
